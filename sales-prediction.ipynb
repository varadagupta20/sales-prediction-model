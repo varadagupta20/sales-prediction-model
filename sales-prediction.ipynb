{
 "cells": [
  {
   "cell_type": "code",
   "execution_count": 84,
   "metadata": {
    "execution": {
     "iopub.execute_input": "2024-01-10T02:49:55.679637Z",
     "iopub.status.busy": "2024-01-10T02:49:55.679009Z",
     "iopub.status.idle": "2024-01-10T02:49:59.395589Z",
     "shell.execute_reply": "2024-01-10T02:49:59.394399Z",
     "shell.execute_reply.started": "2024-01-10T02:49:55.679602Z"
    },
    "trusted": true
   },
   "outputs": [],
   "source": [
    "import pandas as pd\n",
    "import numpy as np\n",
    "import matplotlib.pyplot as plt\n",
    "import seaborn as sns\n",
    "\n",
    "from sklearn.preprocessing import StandardScaler\n",
    "from sklearn.preprocessing import LabelEncoder\n",
    "\n",
    "from sklearn.model_selection import train_test_split\n",
    "from xgboost import XGBRegressor\n",
    "from sklearn.ensemble import RandomForestRegressor\n",
    "from sklearn.ensemble import GradientBoostingRegressor\n",
    "from sklearn.svm import SVR\n",
    "from lightgbm import LGBMRegressor\n",
    "\n",
    "from sklearn import metrics\n",
    "\n",
    "from warnings import filterwarnings\n",
    "filterwarnings('ignore')"
   ]
  },
  {
   "cell_type": "code",
   "execution_count": null,
   "metadata": {
    "execution": {
     "iopub.execute_input": "2024-01-10T02:50:17.445222Z",
     "iopub.status.busy": "2024-01-10T02:50:17.444840Z",
     "iopub.status.idle": "2024-01-10T02:50:17.485831Z",
     "shell.execute_reply": "2024-01-10T02:50:17.485155Z",
     "shell.execute_reply.started": "2024-01-10T02:50:17.445191Z"
    },
    "trusted": true
   },
   "outputs": [],
   "source": [
    "\n",
    "df_train = pd.read_csv('/Users/varadagupta/Desktop/projects/sales prediction/Train.csv')"
   ]
  },
  {
   "cell_type": "code",
   "execution_count": null,
   "metadata": {
    "execution": {
     "iopub.execute_input": "2024-01-10T02:50:18.114154Z",
     "iopub.status.busy": "2024-01-10T02:50:18.113537Z",
     "iopub.status.idle": "2024-01-10T02:50:18.142859Z",
     "shell.execute_reply": "2024-01-10T02:50:18.141682Z",
     "shell.execute_reply.started": "2024-01-10T02:50:18.114122Z"
    },
    "trusted": true
   },
   "outputs": [
    {
     "data": {
      "text/html": [
       "<div>\n",
       "<style scoped>\n",
       "    .dataframe tbody tr th:only-of-type {\n",
       "        vertical-align: middle;\n",
       "    }\n",
       "\n",
       "    .dataframe tbody tr th {\n",
       "        vertical-align: top;\n",
       "    }\n",
       "\n",
       "    .dataframe thead th {\n",
       "        text-align: right;\n",
       "    }\n",
       "</style>\n",
       "<table border=\"1\" class=\"dataframe\">\n",
       "  <thead>\n",
       "    <tr style=\"text-align: right;\">\n",
       "      <th></th>\n",
       "      <th>Item_Identifier</th>\n",
       "      <th>Item_Weight</th>\n",
       "      <th>Item_Fat_Content</th>\n",
       "      <th>Item_Visibility</th>\n",
       "      <th>Item_Type</th>\n",
       "      <th>Item_MRP</th>\n",
       "      <th>Outlet_Identifier</th>\n",
       "      <th>Outlet_Establishment_Year</th>\n",
       "      <th>Outlet_Size</th>\n",
       "      <th>Outlet_Location_Type</th>\n",
       "      <th>Outlet_Type</th>\n",
       "      <th>Item_Outlet_Sales</th>\n",
       "    </tr>\n",
       "  </thead>\n",
       "  <tbody>\n",
       "    <tr>\n",
       "      <th>0</th>\n",
       "      <td>FDA15</td>\n",
       "      <td>9.30</td>\n",
       "      <td>Low Fat</td>\n",
       "      <td>0.02</td>\n",
       "      <td>Dairy</td>\n",
       "      <td>249.81</td>\n",
       "      <td>OUT049</td>\n",
       "      <td>1999</td>\n",
       "      <td>Medium</td>\n",
       "      <td>Tier 1</td>\n",
       "      <td>Supermarket Type1</td>\n",
       "      <td>3735.14</td>\n",
       "    </tr>\n",
       "    <tr>\n",
       "      <th>1</th>\n",
       "      <td>DRC01</td>\n",
       "      <td>5.92</td>\n",
       "      <td>Regular</td>\n",
       "      <td>0.02</td>\n",
       "      <td>Soft Drinks</td>\n",
       "      <td>48.27</td>\n",
       "      <td>OUT018</td>\n",
       "      <td>2009</td>\n",
       "      <td>Medium</td>\n",
       "      <td>Tier 3</td>\n",
       "      <td>Supermarket Type2</td>\n",
       "      <td>443.42</td>\n",
       "    </tr>\n",
       "    <tr>\n",
       "      <th>2</th>\n",
       "      <td>FDN15</td>\n",
       "      <td>17.50</td>\n",
       "      <td>Low Fat</td>\n",
       "      <td>0.02</td>\n",
       "      <td>Meat</td>\n",
       "      <td>141.62</td>\n",
       "      <td>OUT049</td>\n",
       "      <td>1999</td>\n",
       "      <td>Medium</td>\n",
       "      <td>Tier 1</td>\n",
       "      <td>Supermarket Type1</td>\n",
       "      <td>2097.27</td>\n",
       "    </tr>\n",
       "    <tr>\n",
       "      <th>3</th>\n",
       "      <td>FDX07</td>\n",
       "      <td>19.20</td>\n",
       "      <td>Regular</td>\n",
       "      <td>0.00</td>\n",
       "      <td>Fruits and Vegetables</td>\n",
       "      <td>182.09</td>\n",
       "      <td>OUT010</td>\n",
       "      <td>1998</td>\n",
       "      <td>NaN</td>\n",
       "      <td>Tier 3</td>\n",
       "      <td>Grocery Store</td>\n",
       "      <td>732.38</td>\n",
       "    </tr>\n",
       "    <tr>\n",
       "      <th>4</th>\n",
       "      <td>NCD19</td>\n",
       "      <td>8.93</td>\n",
       "      <td>Low Fat</td>\n",
       "      <td>0.00</td>\n",
       "      <td>Household</td>\n",
       "      <td>53.86</td>\n",
       "      <td>OUT013</td>\n",
       "      <td>1987</td>\n",
       "      <td>High</td>\n",
       "      <td>Tier 3</td>\n",
       "      <td>Supermarket Type1</td>\n",
       "      <td>994.71</td>\n",
       "    </tr>\n",
       "    <tr>\n",
       "      <th>5</th>\n",
       "      <td>FDP36</td>\n",
       "      <td>10.39</td>\n",
       "      <td>Regular</td>\n",
       "      <td>0.00</td>\n",
       "      <td>Baking Goods</td>\n",
       "      <td>51.40</td>\n",
       "      <td>OUT018</td>\n",
       "      <td>2009</td>\n",
       "      <td>Medium</td>\n",
       "      <td>Tier 3</td>\n",
       "      <td>Supermarket Type2</td>\n",
       "      <td>556.61</td>\n",
       "    </tr>\n",
       "    <tr>\n",
       "      <th>6</th>\n",
       "      <td>FDO10</td>\n",
       "      <td>13.65</td>\n",
       "      <td>Regular</td>\n",
       "      <td>0.01</td>\n",
       "      <td>Snack Foods</td>\n",
       "      <td>57.66</td>\n",
       "      <td>OUT013</td>\n",
       "      <td>1987</td>\n",
       "      <td>High</td>\n",
       "      <td>Tier 3</td>\n",
       "      <td>Supermarket Type1</td>\n",
       "      <td>343.55</td>\n",
       "    </tr>\n",
       "    <tr>\n",
       "      <th>7</th>\n",
       "      <td>FDP10</td>\n",
       "      <td>NaN</td>\n",
       "      <td>Low Fat</td>\n",
       "      <td>0.13</td>\n",
       "      <td>Snack Foods</td>\n",
       "      <td>107.76</td>\n",
       "      <td>OUT027</td>\n",
       "      <td>1985</td>\n",
       "      <td>Medium</td>\n",
       "      <td>Tier 3</td>\n",
       "      <td>Supermarket Type3</td>\n",
       "      <td>4022.76</td>\n",
       "    </tr>\n",
       "    <tr>\n",
       "      <th>8</th>\n",
       "      <td>FDH17</td>\n",
       "      <td>16.20</td>\n",
       "      <td>Regular</td>\n",
       "      <td>0.02</td>\n",
       "      <td>Frozen Foods</td>\n",
       "      <td>96.97</td>\n",
       "      <td>OUT045</td>\n",
       "      <td>2002</td>\n",
       "      <td>NaN</td>\n",
       "      <td>Tier 2</td>\n",
       "      <td>Supermarket Type1</td>\n",
       "      <td>1076.60</td>\n",
       "    </tr>\n",
       "    <tr>\n",
       "      <th>9</th>\n",
       "      <td>FDU28</td>\n",
       "      <td>19.20</td>\n",
       "      <td>Regular</td>\n",
       "      <td>0.09</td>\n",
       "      <td>Frozen Foods</td>\n",
       "      <td>187.82</td>\n",
       "      <td>OUT017</td>\n",
       "      <td>2007</td>\n",
       "      <td>NaN</td>\n",
       "      <td>Tier 2</td>\n",
       "      <td>Supermarket Type1</td>\n",
       "      <td>4710.53</td>\n",
       "    </tr>\n",
       "  </tbody>\n",
       "</table>\n",
       "</div>"
      ],
      "text/plain": [
       "  Item_Identifier  Item_Weight Item_Fat_Content  Item_Visibility  \\\n",
       "0           FDA15         9.30          Low Fat             0.02   \n",
       "1           DRC01         5.92          Regular             0.02   \n",
       "2           FDN15        17.50          Low Fat             0.02   \n",
       "3           FDX07        19.20          Regular             0.00   \n",
       "4           NCD19         8.93          Low Fat             0.00   \n",
       "5           FDP36        10.39          Regular             0.00   \n",
       "6           FDO10        13.65          Regular             0.01   \n",
       "7           FDP10          NaN          Low Fat             0.13   \n",
       "8           FDH17        16.20          Regular             0.02   \n",
       "9           FDU28        19.20          Regular             0.09   \n",
       "\n",
       "               Item_Type  Item_MRP Outlet_Identifier  \\\n",
       "0                  Dairy    249.81            OUT049   \n",
       "1            Soft Drinks     48.27            OUT018   \n",
       "2                   Meat    141.62            OUT049   \n",
       "3  Fruits and Vegetables    182.09            OUT010   \n",
       "4              Household     53.86            OUT013   \n",
       "5           Baking Goods     51.40            OUT018   \n",
       "6            Snack Foods     57.66            OUT013   \n",
       "7            Snack Foods    107.76            OUT027   \n",
       "8           Frozen Foods     96.97            OUT045   \n",
       "9           Frozen Foods    187.82            OUT017   \n",
       "\n",
       "   Outlet_Establishment_Year Outlet_Size Outlet_Location_Type  \\\n",
       "0                       1999      Medium               Tier 1   \n",
       "1                       2009      Medium               Tier 3   \n",
       "2                       1999      Medium               Tier 1   \n",
       "3                       1998         NaN               Tier 3   \n",
       "4                       1987        High               Tier 3   \n",
       "5                       2009      Medium               Tier 3   \n",
       "6                       1987        High               Tier 3   \n",
       "7                       1985      Medium               Tier 3   \n",
       "8                       2002         NaN               Tier 2   \n",
       "9                       2007         NaN               Tier 2   \n",
       "\n",
       "         Outlet_Type  Item_Outlet_Sales  \n",
       "0  Supermarket Type1            3735.14  \n",
       "1  Supermarket Type2             443.42  \n",
       "2  Supermarket Type1            2097.27  \n",
       "3      Grocery Store             732.38  \n",
       "4  Supermarket Type1             994.71  \n",
       "5  Supermarket Type2             556.61  \n",
       "6  Supermarket Type1             343.55  \n",
       "7  Supermarket Type3            4022.76  \n",
       "8  Supermarket Type1            1076.60  \n",
       "9  Supermarket Type1            4710.53  "
      ]
     },
     "execution_count": 86,
     "metadata": {},
     "output_type": "execute_result"
    }
   ],
   "source": [
    "\n",
    "df_train.head(10)"
   ]
  },
  {
   "cell_type": "code",
   "execution_count": null,
   "metadata": {
    "execution": {
     "iopub.execute_input": "2024-01-10T02:50:22.967333Z",
     "iopub.status.busy": "2024-01-10T02:50:22.966998Z",
     "iopub.status.idle": "2024-01-10T02:50:22.973458Z",
     "shell.execute_reply": "2024-01-10T02:50:22.972325Z",
     "shell.execute_reply.started": "2024-01-10T02:50:22.967309Z"
    },
    "trusted": true
   },
   "outputs": [
    {
     "name": "stdout",
     "output_type": "stream",
     "text": [
      "Number of Rows: 8523\n",
      "Number of Features: 12\n"
     ]
    }
   ],
   "source": [
    "\n",
    "\n",
    "print(\"Number of Rows:\",df_train.shape[0])\n",
    "print(\"Number of Features:\",df_train.shape[1])\n"
   ]
  },
  {
   "cell_type": "code",
   "execution_count": null,
   "metadata": {
    "execution": {
     "iopub.execute_input": "2024-01-10T02:50:23.388188Z",
     "iopub.status.busy": "2024-01-10T02:50:23.387634Z",
     "iopub.status.idle": "2024-01-10T02:50:23.414813Z",
     "shell.execute_reply": "2024-01-10T02:50:23.413508Z",
     "shell.execute_reply.started": "2024-01-10T02:50:23.388162Z"
    },
    "trusted": true
   },
   "outputs": [
    {
     "name": "stdout",
     "output_type": "stream",
     "text": [
      "<class 'pandas.core.frame.DataFrame'>\n",
      "RangeIndex: 8523 entries, 0 to 8522\n",
      "Data columns (total 12 columns):\n",
      " #   Column                     Non-Null Count  Dtype  \n",
      "---  ------                     --------------  -----  \n",
      " 0   Item_Identifier            8523 non-null   object \n",
      " 1   Item_Weight                7060 non-null   float64\n",
      " 2   Item_Fat_Content           8523 non-null   object \n",
      " 3   Item_Visibility            8523 non-null   float64\n",
      " 4   Item_Type                  8523 non-null   object \n",
      " 5   Item_MRP                   8523 non-null   float64\n",
      " 6   Outlet_Identifier          8523 non-null   object \n",
      " 7   Outlet_Establishment_Year  8523 non-null   int64  \n",
      " 8   Outlet_Size                6113 non-null   object \n",
      " 9   Outlet_Location_Type       8523 non-null   object \n",
      " 10  Outlet_Type                8523 non-null   object \n",
      " 11  Item_Outlet_Sales          8523 non-null   float64\n",
      "dtypes: float64(4), int64(1), object(7)\n",
      "memory usage: 799.2+ KB\n"
     ]
    }
   ],
   "source": [
    "\n",
    "df_train.info()"
   ]
  },
  {
   "cell_type": "markdown",
   "metadata": {},
   "source": [
    "**Numerical Features:**\n",
    "- Item_Weight\n",
    "- Item_Visibility\n",
    "- Item_MRP \n",
    "- Outlet_Establishment_Year\n",
    "- Item_Outlet_Sales\n",
    "\n",
    "-------------------------------------------------------------------------------------\n",
    "\n",
    "**Categorical Features:**\n",
    "- Item_Identifier\n",
    "- Item_Fat_Content\n",
    "- Item_Type\n",
    "- Outlet_Identifier\n",
    "- Outlet_Size\n",
    "- Outlet_Location_Type\n",
    "- Outlet_Type\n",
    "\n",
    "-------------------------------------------------------------------------------------\n",
    "**Columns that have null values:**\n",
    "- Item_Weight\n",
    "- Outlet_Size "
   ]
  },
  {
   "cell_type": "code",
   "execution_count": null,
   "metadata": {
    "execution": {
     "iopub.execute_input": "2024-01-10T02:50:24.642860Z",
     "iopub.status.busy": "2024-01-10T02:50:24.641754Z",
     "iopub.status.idle": "2024-01-10T02:50:24.652327Z",
     "shell.execute_reply": "2024-01-10T02:50:24.651318Z",
     "shell.execute_reply.started": "2024-01-10T02:50:24.642811Z"
    },
    "trusted": true
   },
   "outputs": [
    {
     "data": {
      "text/plain": [
       "Item_Identifier                 0\n",
       "Item_Weight                  1463\n",
       "Item_Fat_Content                0\n",
       "Item_Visibility                 0\n",
       "Item_Type                       0\n",
       "Item_MRP                        0\n",
       "Outlet_Identifier               0\n",
       "Outlet_Establishment_Year       0\n",
       "Outlet_Size                  2410\n",
       "Outlet_Location_Type            0\n",
       "Outlet_Type                     0\n",
       "Item_Outlet_Sales               0\n",
       "dtype: int64"
      ]
     },
     "execution_count": 89,
     "metadata": {},
     "output_type": "execute_result"
    }
   ],
   "source": [
    "\n",
    "df_train.isnull().sum()"
   ]
  },
  {
   "cell_type": "code",
   "execution_count": null,
   "metadata": {
    "execution": {
     "iopub.execute_input": "2024-01-10T02:50:27.723095Z",
     "iopub.status.busy": "2024-01-10T02:50:27.722021Z",
     "iopub.status.idle": "2024-01-10T02:50:27.729247Z",
     "shell.execute_reply": "2024-01-10T02:50:27.728346Z",
     "shell.execute_reply.started": "2024-01-10T02:50:27.723048Z"
    },
    "trusted": true
   },
   "outputs": [
    {
     "data": {
      "text/plain": [
       "12.857645184135976"
      ]
     },
     "execution_count": 90,
     "metadata": {},
     "output_type": "execute_result"
    }
   ],
   "source": [
    "\n",
    "df_train['Item_Weight'].mean()"
   ]
  },
  {
   "cell_type": "code",
   "execution_count": null,
   "metadata": {
    "execution": {
     "iopub.execute_input": "2024-01-10T02:50:28.393216Z",
     "iopub.status.busy": "2024-01-10T02:50:28.392026Z",
     "iopub.status.idle": "2024-01-10T02:50:28.400135Z",
     "shell.execute_reply": "2024-01-10T02:50:28.399204Z",
     "shell.execute_reply.started": "2024-01-10T02:50:28.393163Z"
    },
    "trusted": true
   },
   "outputs": [],
   "source": [
    "\n",
    "df_train['Item_Weight'].fillna(df_train['Item_Weight'].mean(),inplace=True)"
   ]
  },
  {
   "cell_type": "code",
   "execution_count": null,
   "metadata": {
    "execution": {
     "iopub.execute_input": "2024-01-10T02:50:28.896402Z",
     "iopub.status.busy": "2024-01-10T02:50:28.896044Z",
     "iopub.status.idle": "2024-01-10T02:50:28.906956Z",
     "shell.execute_reply": "2024-01-10T02:50:28.905227Z",
     "shell.execute_reply.started": "2024-01-10T02:50:28.896373Z"
    },
    "trusted": true
   },
   "outputs": [
    {
     "data": {
      "text/plain": [
       "Item_Identifier                 0\n",
       "Item_Weight                     0\n",
       "Item_Fat_Content                0\n",
       "Item_Visibility                 0\n",
       "Item_Type                       0\n",
       "Item_MRP                        0\n",
       "Outlet_Identifier               0\n",
       "Outlet_Establishment_Year       0\n",
       "Outlet_Size                  2410\n",
       "Outlet_Location_Type            0\n",
       "Outlet_Type                     0\n",
       "Item_Outlet_Sales               0\n",
       "dtype: int64"
      ]
     },
     "execution_count": 92,
     "metadata": {},
     "output_type": "execute_result"
    }
   ],
   "source": [
    "\n",
    "df_train.isnull().sum()"
   ]
  },
  {
   "cell_type": "code",
   "execution_count": 93,
   "metadata": {
    "execution": {
     "iopub.execute_input": "2024-01-10T02:50:31.838311Z",
     "iopub.status.busy": "2024-01-10T02:50:31.837973Z",
     "iopub.status.idle": "2024-01-10T02:50:31.846877Z",
     "shell.execute_reply": "2024-01-10T02:50:31.845604Z",
     "shell.execute_reply.started": "2024-01-10T02:50:31.838286Z"
    },
    "trusted": true
   },
   "outputs": [
    {
     "data": {
      "text/plain": [
       "Outlet_Size\n",
       "Medium    2793\n",
       "Small     2388\n",
       "High       932\n",
       "Name: count, dtype: int64"
      ]
     },
     "execution_count": 93,
     "metadata": {},
     "output_type": "execute_result"
    }
   ],
   "source": [
    "df_train['Outlet_Size'].value_counts()"
   ]
  },
  {
   "cell_type": "code",
   "execution_count": null,
   "metadata": {
    "execution": {
     "iopub.execute_input": "2024-01-10T02:50:32.434390Z",
     "iopub.status.busy": "2024-01-10T02:50:32.434020Z",
     "iopub.status.idle": "2024-01-10T02:50:32.451167Z",
     "shell.execute_reply": "2024-01-10T02:50:32.450201Z",
     "shell.execute_reply.started": "2024-01-10T02:50:32.434363Z"
    },
    "trusted": true
   },
   "outputs": [
    {
     "data": {
      "text/plain": [
       "Outlet_Type\n",
       "Grocery Store         Small\n",
       "Supermarket Type1     Small\n",
       "Supermarket Type2    Medium\n",
       "Supermarket Type3    Medium\n",
       "Name: Outlet_Size, dtype: object"
      ]
     },
     "execution_count": 94,
     "metadata": {},
     "output_type": "execute_result"
    }
   ],
   "source": [
    "\n",
    "df_train.groupby('Outlet_Type')['Outlet_Size'].agg(pd.Series.mode)"
   ]
  },
  {
   "cell_type": "code",
   "execution_count": 95,
   "metadata": {
    "execution": {
     "iopub.execute_input": "2024-01-10T02:50:33.787422Z",
     "iopub.status.busy": "2024-01-10T02:50:33.787051Z",
     "iopub.status.idle": "2024-01-10T02:50:33.798861Z",
     "shell.execute_reply": "2024-01-10T02:50:33.797509Z",
     "shell.execute_reply.started": "2024-01-10T02:50:33.787394Z"
    },
    "trusted": true
   },
   "outputs": [],
   "source": [
    "#Fill missing values in Outlet_Size column with mode of Outlet_Size column for each Outlet_Type in Outlet_Size\n",
    "df_train.loc[df_train['Outlet_Type']=='Grocery Store','Outlet_Size']='Small'\n",
    "df_train.loc[df_train['Outlet_Type']=='Supermarket Type1','Outlet_Size']='Small'\n",
    "df_train.loc[df_train['Outlet_Type']=='Supermarket Type2','Outlet_Size']='Medium'\n",
    "df_train.loc[df_train['Outlet_Type']=='Supermarket Type3','Outlet_Size']='Medium'"
   ]
  },
  {
   "cell_type": "code",
   "execution_count": 96,
   "metadata": {
    "execution": {
     "iopub.execute_input": "2024-01-10T02:50:35.046899Z",
     "iopub.status.busy": "2024-01-10T02:50:35.046245Z",
     "iopub.status.idle": "2024-01-10T02:50:35.056357Z",
     "shell.execute_reply": "2024-01-10T02:50:35.055450Z",
     "shell.execute_reply.started": "2024-01-10T02:50:35.046866Z"
    },
    "trusted": true
   },
   "outputs": [
    {
     "data": {
      "text/plain": [
       "Item_Identifier              0\n",
       "Item_Weight                  0\n",
       "Item_Fat_Content             0\n",
       "Item_Visibility              0\n",
       "Item_Type                    0\n",
       "Item_MRP                     0\n",
       "Outlet_Identifier            0\n",
       "Outlet_Establishment_Year    0\n",
       "Outlet_Size                  0\n",
       "Outlet_Location_Type         0\n",
       "Outlet_Type                  0\n",
       "Item_Outlet_Sales            0\n",
       "dtype: int64"
      ]
     },
     "execution_count": 96,
     "metadata": {},
     "output_type": "execute_result"
    }
   ],
   "source": [
    "#Check for missing values\n",
    "df_train.isnull().sum()"
   ]
  },
  {
   "cell_type": "markdown",
   "metadata": {},
   "source": [
    "### **<font color = \"green\">Data Analysis </font>**"
   ]
  },
  {
   "cell_type": "code",
   "execution_count": 97,
   "metadata": {
    "execution": {
     "iopub.execute_input": "2024-01-10T02:50:37.199556Z",
     "iopub.status.busy": "2024-01-10T02:50:37.199198Z",
     "iopub.status.idle": "2024-01-10T02:50:37.227943Z",
     "shell.execute_reply": "2024-01-10T02:50:37.226900Z",
     "shell.execute_reply.started": "2024-01-10T02:50:37.199528Z"
    },
    "trusted": true
   },
   "outputs": [
    {
     "data": {
      "text/html": [
       "<div>\n",
       "<style scoped>\n",
       "    .dataframe tbody tr th:only-of-type {\n",
       "        vertical-align: middle;\n",
       "    }\n",
       "\n",
       "    .dataframe tbody tr th {\n",
       "        vertical-align: top;\n",
       "    }\n",
       "\n",
       "    .dataframe thead th {\n",
       "        text-align: right;\n",
       "    }\n",
       "</style>\n",
       "<table border=\"1\" class=\"dataframe\">\n",
       "  <thead>\n",
       "    <tr style=\"text-align: right;\">\n",
       "      <th></th>\n",
       "      <th>Item_Weight</th>\n",
       "      <th>Item_Visibility</th>\n",
       "      <th>Item_MRP</th>\n",
       "      <th>Outlet_Establishment_Year</th>\n",
       "      <th>Item_Outlet_Sales</th>\n",
       "    </tr>\n",
       "  </thead>\n",
       "  <tbody>\n",
       "    <tr>\n",
       "      <th>count</th>\n",
       "      <td>8523.00</td>\n",
       "      <td>8523.00</td>\n",
       "      <td>8523.00</td>\n",
       "      <td>8523.00</td>\n",
       "      <td>8523.00</td>\n",
       "    </tr>\n",
       "    <tr>\n",
       "      <th>mean</th>\n",
       "      <td>12.86</td>\n",
       "      <td>0.07</td>\n",
       "      <td>140.99</td>\n",
       "      <td>1997.83</td>\n",
       "      <td>2181.29</td>\n",
       "    </tr>\n",
       "    <tr>\n",
       "      <th>std</th>\n",
       "      <td>4.23</td>\n",
       "      <td>0.05</td>\n",
       "      <td>62.28</td>\n",
       "      <td>8.37</td>\n",
       "      <td>1706.50</td>\n",
       "    </tr>\n",
       "    <tr>\n",
       "      <th>min</th>\n",
       "      <td>4.55</td>\n",
       "      <td>0.00</td>\n",
       "      <td>31.29</td>\n",
       "      <td>1985.00</td>\n",
       "      <td>33.29</td>\n",
       "    </tr>\n",
       "    <tr>\n",
       "      <th>25%</th>\n",
       "      <td>9.31</td>\n",
       "      <td>0.03</td>\n",
       "      <td>93.83</td>\n",
       "      <td>1987.00</td>\n",
       "      <td>834.25</td>\n",
       "    </tr>\n",
       "    <tr>\n",
       "      <th>50%</th>\n",
       "      <td>12.86</td>\n",
       "      <td>0.05</td>\n",
       "      <td>143.01</td>\n",
       "      <td>1999.00</td>\n",
       "      <td>1794.33</td>\n",
       "    </tr>\n",
       "    <tr>\n",
       "      <th>75%</th>\n",
       "      <td>16.00</td>\n",
       "      <td>0.09</td>\n",
       "      <td>185.64</td>\n",
       "      <td>2004.00</td>\n",
       "      <td>3101.30</td>\n",
       "    </tr>\n",
       "    <tr>\n",
       "      <th>max</th>\n",
       "      <td>21.35</td>\n",
       "      <td>0.33</td>\n",
       "      <td>266.89</td>\n",
       "      <td>2009.00</td>\n",
       "      <td>13086.96</td>\n",
       "    </tr>\n",
       "  </tbody>\n",
       "</table>\n",
       "</div>"
      ],
      "text/plain": [
       "       Item_Weight  Item_Visibility  Item_MRP  Outlet_Establishment_Year  \\\n",
       "count      8523.00          8523.00   8523.00                    8523.00   \n",
       "mean         12.86             0.07    140.99                    1997.83   \n",
       "std           4.23             0.05     62.28                       8.37   \n",
       "min           4.55             0.00     31.29                    1985.00   \n",
       "25%           9.31             0.03     93.83                    1987.00   \n",
       "50%          12.86             0.05    143.01                    1999.00   \n",
       "75%          16.00             0.09    185.64                    2004.00   \n",
       "max          21.35             0.33    266.89                    2009.00   \n",
       "\n",
       "       Item_Outlet_Sales  \n",
       "count            8523.00  \n",
       "mean             2181.29  \n",
       "std              1706.50  \n",
       "min                33.29  \n",
       "25%               834.25  \n",
       "50%              1794.33  \n",
       "75%              3101.30  \n",
       "max             13086.96  "
      ]
     },
     "execution_count": 97,
     "metadata": {},
     "output_type": "execute_result"
    }
   ],
   "source": [
    "#See descriptive statistics of numerical columns\n",
    "df_train.describe()"
   ]
  },
  {
   "cell_type": "markdown",
   "metadata": {},
   "source": [
    "### **<font color = \"green\">Data Visualization of Numerical Features</font>**"
   ]
  },
  {
   "cell_type": "code",
   "execution_count": 98,
   "metadata": {
    "execution": {
     "iopub.execute_input": "2024-01-10T02:50:48.781238Z",
     "iopub.status.busy": "2024-01-10T02:50:48.780870Z",
     "iopub.status.idle": "2024-01-10T02:50:48.786830Z",
     "shell.execute_reply": "2024-01-10T02:50:48.785328Z",
     "shell.execute_reply.started": "2024-01-10T02:50:48.781210Z"
    },
    "trusted": true
   },
   "outputs": [],
   "source": [
    "#applying Seaborn's default aesthetic settings to your plots\n",
    "sns.set()"
   ]
  },
  {
   "cell_type": "code",
   "execution_count": 99,
   "metadata": {
    "execution": {
     "iopub.execute_input": "2024-01-10T02:50:49.401777Z",
     "iopub.status.busy": "2024-01-10T02:50:49.401089Z",
     "iopub.status.idle": "2024-01-10T02:50:50.823136Z",
     "shell.execute_reply": "2024-01-10T02:50:50.822064Z",
     "shell.execute_reply.started": "2024-01-10T02:50:49.401745Z"
    },
    "trusted": true
   },
   "outputs": [
    {
     "data": {
      "image/png": "[encoded data removed]",
      "text/plain": [
       "<Figure size 1000x500 with 1 Axes>"
      ]
     },
     "metadata": {},
     "output_type": "display_data"
    },
    {
     "data": {
      "image/png": "[encoded data removed]",
      "text/plain": [
       "<Figure size 1000x500 with 1 Axes>"
      ]
     },
     "metadata": {},
     "output_type": "display_data"
    },
    {
     "data": {
      "image/png": "[encoded data removed]",
      "text/plain": [
       "<Figure size 1000x500 with 1 Axes>"
      ]
     },
     "metadata": {},
     "output_type": "display_data"
    },
    {
     "data": {
      "image/png": "[encoded data removed]",
      "text/plain": [
       "<Figure size 1000x500 with 1 Axes>"
      ]
     },
     "metadata": {},
     "output_type": "display_data"
    }
   ],
   "source": [
    "#Plot distplot for numerical columns\n",
    "cols = ['Item_Weight','Item_Visibility','Item_MRP','Item_Outlet_Sales']\n",
    "for col in cols:\n",
    "    plt.figure(figsize=(10,5))\n",
    "    sns.distplot(df_train[col])\n",
    "    plt.show()"
   ]
  },
  {
   "cell_type": "code",
   "execution_count": 100,
   "metadata": {
    "execution": {
     "iopub.execute_input": "2024-01-10T02:50:50.825030Z",
     "iopub.status.busy": "2024-01-10T02:50:50.824700Z",
     "iopub.status.idle": "2024-01-10T02:50:51.076752Z",
     "shell.execute_reply": "2024-01-10T02:50:51.075093Z",
     "shell.execute_reply.started": "2024-01-10T02:50:50.824990Z"
    },
    "trusted": true
   },
   "outputs": [
    {
     "data": {
      "image/png": "[encoded data removed]",
      "text/plain": [
       "<Figure size 1000x500 with 1 Axes>"
      ]
     },
     "metadata": {},
     "output_type": "display_data"
    }
   ],
   "source": [
    "#Plot countplot for Outlet_Establishment_Year column\n",
    "plt.figure(figsize=(10,5))\n",
    "sns.countplot(x='Outlet_Establishment_Year', data=df_train)\n",
    "plt.show()"
   ]
  },
  {
   "cell_type": "markdown",
   "metadata": {},
   "source": [
    "### **<font color = \"green\">Data Visualization of Categorical Features</font>**"
   ]
  },
  {
   "cell_type": "code",
   "execution_count": 101,
   "metadata": {
    "execution": {
     "iopub.execute_input": "2024-01-10T02:50:54.771520Z",
     "iopub.status.busy": "2024-01-10T02:50:54.771186Z",
     "iopub.status.idle": "2024-01-10T02:50:54.975695Z",
     "shell.execute_reply": "2024-01-10T02:50:54.974761Z",
     "shell.execute_reply.started": "2024-01-10T02:50:54.771494Z"
    },
    "trusted": true
   },
   "outputs": [
    {
     "data": {
      "image/png": "[encoded data removed]",
      "text/plain": [
       "<Figure size 1000x500 with 1 Axes>"
      ]
     },
     "metadata": {},
     "output_type": "display_data"
    }
   ],
   "source": [
    "#Plot countplot for Item_Fat_Content column\n",
    "plt.figure(figsize=(10,5))\n",
    "sns.countplot(x= \"Item_Fat_Content\" , data=df_train)\n",
    "plt.show()"
   ]
  },
  {
   "cell_type": "code",
   "execution_count": 102,
   "metadata": {
    "execution": {
     "iopub.execute_input": "2024-01-10T02:50:54.977481Z",
     "iopub.status.busy": "2024-01-10T02:50:54.977208Z",
     "iopub.status.idle": "2024-01-10T02:50:55.398911Z",
     "shell.execute_reply": "2024-01-10T02:50:55.398156Z",
     "shell.execute_reply.started": "2024-01-10T02:50:54.977456Z"
    },
    "trusted": true
   },
   "outputs": [
    {
     "name": "stderr",
     "output_type": "stream",
     "text": [
      "Exception ignored in: <function tqdm.__del__ at 0x155585f80>\n",
      "Traceback (most recent call last):\n",
      "  File \"/Users/varadagupta/.pyenv/versions/3.11.1/lib/python3.11/site-packages/tqdm/std.py\", line 1148, in __del__\n",
      "    self.close()\n",
      "  File \"/Users/varadagupta/.pyenv/versions/3.11.1/lib/python3.11/site-packages/tqdm/notebook.py\", line 279, in close\n",
      "    self.disp(bar_style='danger', check_delay=False)\n",
      "    ^^^^^^^^^\n",
      "AttributeError: 'tqdm_notebook' object has no attribute 'disp'\n"
     ]
    },
    {
     "data": {
      "image/png": "[encoded data removed]",
      "text/plain": [
       "<Figure size 3000x1000 with 1 Axes>"
      ]
     },
     "metadata": {},
     "output_type": "display_data"
    }
   ],
   "source": [
    "#Plot countplot for Item_Type column\n",
    "plt.figure(figsize=(30,10))\n",
    "sns.countplot(x= \"Item_Type\" , data=df_train)\n",
    "plt.show()"
   ]
  },
  {
   "cell_type": "code",
   "execution_count": 103,
   "metadata": {
    "execution": {
     "iopub.execute_input": "2024-01-10T02:50:55.401406Z",
     "iopub.status.busy": "2024-01-10T02:50:55.400242Z",
     "iopub.status.idle": "2024-01-10T02:50:55.565361Z",
     "shell.execute_reply": "2024-01-10T02:50:55.564333Z",
     "shell.execute_reply.started": "2024-01-10T02:50:55.401357Z"
    },
    "trusted": true
   },
   "outputs": [
    {
     "data": {
      "image/png": "[encoded data removed]",
      "text/plain": [
       "<Figure size 1000x500 with 1 Axes>"
      ]
     },
     "metadata": {},
     "output_type": "display_data"
    }
   ],
   "source": [
    "#Plot countplot for Outlet_Size column\n",
    "plt.figure(figsize=(10,5))\n",
    "sns.countplot(x= \"Outlet_Size\" , data=df_train)\n",
    "plt.show()"
   ]
  },
  {
   "cell_type": "code",
   "execution_count": 104,
   "metadata": {
    "execution": {
     "iopub.execute_input": "2024-01-10T02:50:55.739431Z",
     "iopub.status.busy": "2024-01-10T02:50:55.737044Z",
     "iopub.status.idle": "2024-01-10T02:50:55.905905Z",
     "shell.execute_reply": "2024-01-10T02:50:55.904827Z",
     "shell.execute_reply.started": "2024-01-10T02:50:55.739398Z"
    },
    "trusted": true
   },
   "outputs": [
    {
     "data": {
      "image/png": "[encoded data removed]",
      "text/plain": [
       "<Figure size 1000x500 with 1 Axes>"
      ]
     },
     "metadata": {},
     "output_type": "display_data"
    }
   ],
   "source": [
    "#Plot countplot for Outlet_Location_Type column\n",
    "plt.figure(figsize=(10,5))\n",
    "sns.countplot(x= \"Outlet_Location_Type\" , data=df_train)\n",
    "plt.show()"
   ]
  },
  {
   "cell_type": "code",
   "execution_count": 105,
   "metadata": {
    "execution": {
     "iopub.execute_input": "2024-01-10T02:50:56.461563Z",
     "iopub.status.busy": "2024-01-10T02:50:56.461219Z",
     "iopub.status.idle": "2024-01-10T02:50:56.651246Z",
     "shell.execute_reply": "2024-01-10T02:50:56.650154Z",
     "shell.execute_reply.started": "2024-01-10T02:50:56.461537Z"
    },
    "trusted": true
   },
   "outputs": [
    {
     "data": {
      "image/png": "[encoded data removed]",
      "text/plain": [
       "<Figure size 1000x500 with 1 Axes>"
      ]
     },
     "metadata": {},
     "output_type": "display_data"
    }
   ],
   "source": [
    "#Plot countplot for Outlet_Type column\n",
    "plt.figure(figsize=(10,5))\n",
    "sns.countplot(x= \"Outlet_Type\" , data=df_train)\n",
    "plt.show()"
   ]
  },
  {
   "cell_type": "markdown",
   "metadata": {},
   "source": [
    "### **<font color = \"green\">Data Preprocessing</font>**"
   ]
  },
  {
   "cell_type": "code",
   "execution_count": 106,
   "metadata": {
    "execution": {
     "iopub.execute_input": "2024-01-10T02:50:58.759512Z",
     "iopub.status.busy": "2024-01-10T02:50:58.759145Z",
     "iopub.status.idle": "2024-01-10T02:50:58.766866Z",
     "shell.execute_reply": "2024-01-10T02:50:58.765987Z",
     "shell.execute_reply.started": "2024-01-10T02:50:58.759473Z"
    },
    "trusted": true
   },
   "outputs": [
    {
     "data": {
      "text/plain": [
       "Item_Fat_Content\n",
       "Low Fat    5089\n",
       "Regular    2889\n",
       "LF          316\n",
       "reg         117\n",
       "low fat     112\n",
       "Name: count, dtype: int64"
      ]
     },
     "execution_count": 106,
     "metadata": {},
     "output_type": "execute_result"
    }
   ],
   "source": [
    "#see categories in Item_Fat_Content column\n",
    "df_train['Item_Fat_Content'].value_counts()"
   ]
  },
  {
   "cell_type": "code",
   "execution_count": 107,
   "metadata": {
    "execution": {
     "iopub.execute_input": "2024-01-10T02:50:59.787496Z",
     "iopub.status.busy": "2024-01-10T02:50:59.787157Z",
     "iopub.status.idle": "2024-01-10T02:50:59.796245Z",
     "shell.execute_reply": "2024-01-10T02:50:59.794797Z",
     "shell.execute_reply.started": "2024-01-10T02:50:59.787468Z"
    },
    "trusted": true
   },
   "outputs": [],
   "source": [
    "#handle Item_Fat_Content column categories with replacement\n",
    "df_train['Item_Fat_Content'].replace({'LF':'Low Fat','reg':'Regular','low fat':'Low Fat'},inplace=True)\n"
   ]
  },
  {
   "cell_type": "code",
   "execution_count": 108,
   "metadata": {
    "execution": {
     "iopub.execute_input": "2024-01-10T02:51:00.548573Z",
     "iopub.status.busy": "2024-01-10T02:51:00.548238Z",
     "iopub.status.idle": "2024-01-10T02:51:00.556340Z",
     "shell.execute_reply": "2024-01-10T02:51:00.555537Z",
     "shell.execute_reply.started": "2024-01-10T02:51:00.548548Z"
    },
    "trusted": true
   },
   "outputs": [
    {
     "data": {
      "text/plain": [
       "Item_Fat_Content\n",
       "Low Fat    5517\n",
       "Regular    3006\n",
       "Name: count, dtype: int64"
      ]
     },
     "execution_count": 108,
     "metadata": {},
     "output_type": "execute_result"
    }
   ],
   "source": [
    "#see categories in Item_Fat_Content column\n",
    "df_train['Item_Fat_Content'].value_counts()"
   ]
  },
  {
   "cell_type": "markdown",
   "metadata": {},
   "source": [
    "### **<font color = \"green\">Handle Categorical Features</font>**"
   ]
  },
  {
   "cell_type": "code",
   "execution_count": 109,
   "metadata": {
    "execution": {
     "iopub.execute_input": "2024-01-10T02:51:03.110824Z",
     "iopub.status.busy": "2024-01-10T02:51:03.110453Z",
     "iopub.status.idle": "2024-01-10T02:51:03.134194Z",
     "shell.execute_reply": "2024-01-10T02:51:03.133088Z",
     "shell.execute_reply.started": "2024-01-10T02:51:03.110794Z"
    },
    "trusted": true
   },
   "outputs": [],
   "source": [
    "#Apply Label Encoding on categorical columns\n",
    "le = LabelEncoder()\n",
    "\n",
    "df_train['Item_Fat_Content'] = le.fit_transform(df_train['Item_Fat_Content'])\n",
    "\n",
    "df_train['Item_Type'] = le.fit_transform(df_train['Item_Type'])\n",
    "\n",
    "df_train['Outlet_Size'] = le.fit_transform(df_train['Outlet_Size'])\n",
    "\n",
    "df_train['Outlet_Location_Type'] = le.fit_transform(df_train['Outlet_Location_Type'])\n",
    "\n",
    "df_train['Outlet_Type'] = le.fit_transform(df_train['Outlet_Type'])\n",
    "\n",
    "df_train['Item_Identifier'] = le.fit_transform(df_train['Item_Identifier'])\n",
    "\n",
    "df_train['Outlet_Identifier'] = le.fit_transform(df_train['Outlet_Identifier'])"
   ]
  },
  {
   "cell_type": "code",
   "execution_count": 110,
   "metadata": {
    "execution": {
     "iopub.execute_input": "2024-01-10T02:51:03.956805Z",
     "iopub.status.busy": "2024-01-10T02:51:03.955832Z",
     "iopub.status.idle": "2024-01-10T02:51:03.975011Z",
     "shell.execute_reply": "2024-01-10T02:51:03.973493Z",
     "shell.execute_reply.started": "2024-01-10T02:51:03.956674Z"
    },
    "trusted": true
   },
   "outputs": [
    {
     "data": {
      "text/html": [
       "<div>\n",
       "<style scoped>\n",
       "    .dataframe tbody tr th:only-of-type {\n",
       "        vertical-align: middle;\n",
       "    }\n",
       "\n",
       "    .dataframe tbody tr th {\n",
       "        vertical-align: top;\n",
       "    }\n",
       "\n",
       "    .dataframe thead th {\n",
       "        text-align: right;\n",
       "    }\n",
       "</style>\n",
       "<table border=\"1\" class=\"dataframe\">\n",
       "  <thead>\n",
       "    <tr style=\"text-align: right;\">\n",
       "      <th></th>\n",
       "      <th>Item_Identifier</th>\n",
       "      <th>Item_Weight</th>\n",
       "      <th>Item_Fat_Content</th>\n",
       "      <th>Item_Visibility</th>\n",
       "      <th>Item_Type</th>\n",
       "      <th>Item_MRP</th>\n",
       "      <th>Outlet_Identifier</th>\n",
       "      <th>Outlet_Establishment_Year</th>\n",
       "      <th>Outlet_Size</th>\n",
       "      <th>Outlet_Location_Type</th>\n",
       "      <th>Outlet_Type</th>\n",
       "      <th>Item_Outlet_Sales</th>\n",
       "    </tr>\n",
       "  </thead>\n",
       "  <tbody>\n",
       "    <tr>\n",
       "      <th>0</th>\n",
       "      <td>156</td>\n",
       "      <td>9.30</td>\n",
       "      <td>0</td>\n",
       "      <td>0.02</td>\n",
       "      <td>4</td>\n",
       "      <td>249.81</td>\n",
       "      <td>9</td>\n",
       "      <td>1999</td>\n",
       "      <td>1</td>\n",
       "      <td>0</td>\n",
       "      <td>1</td>\n",
       "      <td>3735.14</td>\n",
       "    </tr>\n",
       "    <tr>\n",
       "      <th>1</th>\n",
       "      <td>8</td>\n",
       "      <td>5.92</td>\n",
       "      <td>1</td>\n",
       "      <td>0.02</td>\n",
       "      <td>14</td>\n",
       "      <td>48.27</td>\n",
       "      <td>3</td>\n",
       "      <td>2009</td>\n",
       "      <td>0</td>\n",
       "      <td>2</td>\n",
       "      <td>2</td>\n",
       "      <td>443.42</td>\n",
       "    </tr>\n",
       "    <tr>\n",
       "      <th>2</th>\n",
       "      <td>662</td>\n",
       "      <td>17.50</td>\n",
       "      <td>0</td>\n",
       "      <td>0.02</td>\n",
       "      <td>10</td>\n",
       "      <td>141.62</td>\n",
       "      <td>9</td>\n",
       "      <td>1999</td>\n",
       "      <td>1</td>\n",
       "      <td>0</td>\n",
       "      <td>1</td>\n",
       "      <td>2097.27</td>\n",
       "    </tr>\n",
       "    <tr>\n",
       "      <th>3</th>\n",
       "      <td>1121</td>\n",
       "      <td>19.20</td>\n",
       "      <td>1</td>\n",
       "      <td>0.00</td>\n",
       "      <td>6</td>\n",
       "      <td>182.09</td>\n",
       "      <td>0</td>\n",
       "      <td>1998</td>\n",
       "      <td>1</td>\n",
       "      <td>2</td>\n",
       "      <td>0</td>\n",
       "      <td>732.38</td>\n",
       "    </tr>\n",
       "    <tr>\n",
       "      <th>4</th>\n",
       "      <td>1297</td>\n",
       "      <td>8.93</td>\n",
       "      <td>0</td>\n",
       "      <td>0.00</td>\n",
       "      <td>9</td>\n",
       "      <td>53.86</td>\n",
       "      <td>1</td>\n",
       "      <td>1987</td>\n",
       "      <td>1</td>\n",
       "      <td>2</td>\n",
       "      <td>1</td>\n",
       "      <td>994.71</td>\n",
       "    </tr>\n",
       "    <tr>\n",
       "      <th>5</th>\n",
       "      <td>758</td>\n",
       "      <td>10.39</td>\n",
       "      <td>1</td>\n",
       "      <td>0.00</td>\n",
       "      <td>0</td>\n",
       "      <td>51.40</td>\n",
       "      <td>3</td>\n",
       "      <td>2009</td>\n",
       "      <td>0</td>\n",
       "      <td>2</td>\n",
       "      <td>2</td>\n",
       "      <td>556.61</td>\n",
       "    </tr>\n",
       "    <tr>\n",
       "      <th>6</th>\n",
       "      <td>696</td>\n",
       "      <td>13.65</td>\n",
       "      <td>1</td>\n",
       "      <td>0.01</td>\n",
       "      <td>13</td>\n",
       "      <td>57.66</td>\n",
       "      <td>1</td>\n",
       "      <td>1987</td>\n",
       "      <td>1</td>\n",
       "      <td>2</td>\n",
       "      <td>1</td>\n",
       "      <td>343.55</td>\n",
       "    </tr>\n",
       "    <tr>\n",
       "      <th>7</th>\n",
       "      <td>738</td>\n",
       "      <td>12.86</td>\n",
       "      <td>0</td>\n",
       "      <td>0.13</td>\n",
       "      <td>13</td>\n",
       "      <td>107.76</td>\n",
       "      <td>5</td>\n",
       "      <td>1985</td>\n",
       "      <td>0</td>\n",
       "      <td>2</td>\n",
       "      <td>3</td>\n",
       "      <td>4022.76</td>\n",
       "    </tr>\n",
       "    <tr>\n",
       "      <th>8</th>\n",
       "      <td>440</td>\n",
       "      <td>16.20</td>\n",
       "      <td>1</td>\n",
       "      <td>0.02</td>\n",
       "      <td>5</td>\n",
       "      <td>96.97</td>\n",
       "      <td>7</td>\n",
       "      <td>2002</td>\n",
       "      <td>1</td>\n",
       "      <td>1</td>\n",
       "      <td>1</td>\n",
       "      <td>1076.60</td>\n",
       "    </tr>\n",
       "    <tr>\n",
       "      <th>9</th>\n",
       "      <td>990</td>\n",
       "      <td>19.20</td>\n",
       "      <td>1</td>\n",
       "      <td>0.09</td>\n",
       "      <td>5</td>\n",
       "      <td>187.82</td>\n",
       "      <td>2</td>\n",
       "      <td>2007</td>\n",
       "      <td>1</td>\n",
       "      <td>1</td>\n",
       "      <td>1</td>\n",
       "      <td>4710.53</td>\n",
       "    </tr>\n",
       "  </tbody>\n",
       "</table>\n",
       "</div>"
      ],
      "text/plain": [
       "   Item_Identifier  Item_Weight  Item_Fat_Content  Item_Visibility  Item_Type  \\\n",
       "0              156         9.30                 0             0.02          4   \n",
       "1                8         5.92                 1             0.02         14   \n",
       "2              662        17.50                 0             0.02         10   \n",
       "3             1121        19.20                 1             0.00          6   \n",
       "4             1297         8.93                 0             0.00          9   \n",
       "5              758        10.39                 1             0.00          0   \n",
       "6              696        13.65                 1             0.01         13   \n",
       "7              738        12.86                 0             0.13         13   \n",
       "8              440        16.20                 1             0.02          5   \n",
       "9              990        19.20                 1             0.09          5   \n",
       "\n",
       "   Item_MRP  Outlet_Identifier  Outlet_Establishment_Year  Outlet_Size  \\\n",
       "0    249.81                  9                       1999            1   \n",
       "1     48.27                  3                       2009            0   \n",
       "2    141.62                  9                       1999            1   \n",
       "3    182.09                  0                       1998            1   \n",
       "4     53.86                  1                       1987            1   \n",
       "5     51.40                  3                       2009            0   \n",
       "6     57.66                  1                       1987            1   \n",
       "7    107.76                  5                       1985            0   \n",
       "8     96.97                  7                       2002            1   \n",
       "9    187.82                  2                       2007            1   \n",
       "\n",
       "   Outlet_Location_Type  Outlet_Type  Item_Outlet_Sales  \n",
       "0                     0            1            3735.14  \n",
       "1                     2            2             443.42  \n",
       "2                     0            1            2097.27  \n",
       "3                     2            0             732.38  \n",
       "4                     2            1             994.71  \n",
       "5                     2            2             556.61  \n",
       "6                     2            1             343.55  \n",
       "7                     2            3            4022.76  \n",
       "8                     1            1            1076.60  \n",
       "9                     1            1            4710.53  "
      ]
     },
     "execution_count": 110,
     "metadata": {},
     "output_type": "execute_result"
    }
   ],
   "source": [
    "df_train.head(10)"
   ]
  },
  {
   "cell_type": "code",
   "execution_count": 111,
   "metadata": {
    "execution": {
     "iopub.execute_input": "2024-01-10T02:51:06.269426Z",
     "iopub.status.busy": "2024-01-10T02:51:06.269017Z",
     "iopub.status.idle": "2024-01-10T02:51:06.281761Z",
     "shell.execute_reply": "2024-01-10T02:51:06.280480Z",
     "shell.execute_reply.started": "2024-01-10T02:51:06.269388Z"
    },
    "trusted": true
   },
   "outputs": [
    {
     "name": "stdout",
     "output_type": "stream",
     "text": [
      "<class 'pandas.core.frame.DataFrame'>\n",
      "RangeIndex: 8523 entries, 0 to 8522\n",
      "Data columns (total 12 columns):\n",
      " #   Column                     Non-Null Count  Dtype  \n",
      "---  ------                     --------------  -----  \n",
      " 0   Item_Identifier            8523 non-null   int64  \n",
      " 1   Item_Weight                8523 non-null   float64\n",
      " 2   Item_Fat_Content           8523 non-null   int64  \n",
      " 3   Item_Visibility            8523 non-null   float64\n",
      " 4   Item_Type                  8523 non-null   int64  \n",
      " 5   Item_MRP                   8523 non-null   float64\n",
      " 6   Outlet_Identifier          8523 non-null   int64  \n",
      " 7   Outlet_Establishment_Year  8523 non-null   int64  \n",
      " 8   Outlet_Size                8523 non-null   int64  \n",
      " 9   Outlet_Location_Type       8523 non-null   int64  \n",
      " 10  Outlet_Type                8523 non-null   int64  \n",
      " 11  Item_Outlet_Sales          8523 non-null   float64\n",
      "dtypes: float64(4), int64(8)\n",
      "memory usage: 799.2 KB\n"
     ]
    }
   ],
   "source": [
    "df_train.info()"
   ]
  },
  {
   "cell_type": "markdown",
   "metadata": {},
   "source": [
    "### **<font color = \"green\">Data Scaling using StandardScaler</font>**"
   ]
  },
  {
   "cell_type": "code",
   "execution_count": 112,
   "metadata": {
    "execution": {
     "iopub.execute_input": "2024-01-10T02:51:14.142843Z",
     "iopub.status.busy": "2024-01-10T02:51:14.142487Z",
     "iopub.status.idle": "2024-01-10T02:51:14.166263Z",
     "shell.execute_reply": "2024-01-10T02:51:14.165144Z",
     "shell.execute_reply.started": "2024-01-10T02:51:14.142815Z"
    },
    "trusted": true
   },
   "outputs": [
    {
     "data": {
      "text/html": [
       "<div>\n",
       "<style scoped>\n",
       "    .dataframe tbody tr th:only-of-type {\n",
       "        vertical-align: middle;\n",
       "    }\n",
       "\n",
       "    .dataframe tbody tr th {\n",
       "        vertical-align: top;\n",
       "    }\n",
       "\n",
       "    .dataframe thead th {\n",
       "        text-align: right;\n",
       "    }\n",
       "</style>\n",
       "<table border=\"1\" class=\"dataframe\">\n",
       "  <thead>\n",
       "    <tr style=\"text-align: right;\">\n",
       "      <th></th>\n",
       "      <th>Item_Identifier</th>\n",
       "      <th>Item_Weight</th>\n",
       "      <th>Item_Fat_Content</th>\n",
       "      <th>Item_Visibility</th>\n",
       "      <th>Item_Type</th>\n",
       "      <th>Item_MRP</th>\n",
       "      <th>Outlet_Identifier</th>\n",
       "      <th>Outlet_Establishment_Year</th>\n",
       "      <th>Outlet_Size</th>\n",
       "      <th>Outlet_Location_Type</th>\n",
       "      <th>Outlet_Type</th>\n",
       "      <th>Item_Outlet_Sales</th>\n",
       "    </tr>\n",
       "  </thead>\n",
       "  <tbody>\n",
       "    <tr>\n",
       "      <th>0</th>\n",
       "      <td>156</td>\n",
       "      <td>-0.84</td>\n",
       "      <td>0</td>\n",
       "      <td>-0.97</td>\n",
       "      <td>4</td>\n",
       "      <td>1.75</td>\n",
       "      <td>9</td>\n",
       "      <td>1999</td>\n",
       "      <td>1</td>\n",
       "      <td>0</td>\n",
       "      <td>1</td>\n",
       "      <td>0.91</td>\n",
       "    </tr>\n",
       "    <tr>\n",
       "      <th>1</th>\n",
       "      <td>8</td>\n",
       "      <td>-1.64</td>\n",
       "      <td>1</td>\n",
       "      <td>-0.91</td>\n",
       "      <td>14</td>\n",
       "      <td>-1.49</td>\n",
       "      <td>3</td>\n",
       "      <td>2009</td>\n",
       "      <td>0</td>\n",
       "      <td>2</td>\n",
       "      <td>2</td>\n",
       "      <td>-1.02</td>\n",
       "    </tr>\n",
       "    <tr>\n",
       "      <th>2</th>\n",
       "      <td>662</td>\n",
       "      <td>1.10</td>\n",
       "      <td>0</td>\n",
       "      <td>-0.96</td>\n",
       "      <td>10</td>\n",
       "      <td>0.01</td>\n",
       "      <td>9</td>\n",
       "      <td>1999</td>\n",
       "      <td>1</td>\n",
       "      <td>0</td>\n",
       "      <td>1</td>\n",
       "      <td>-0.05</td>\n",
       "    </tr>\n",
       "    <tr>\n",
       "      <th>3</th>\n",
       "      <td>1121</td>\n",
       "      <td>1.50</td>\n",
       "      <td>1</td>\n",
       "      <td>-1.28</td>\n",
       "      <td>6</td>\n",
       "      <td>0.66</td>\n",
       "      <td>0</td>\n",
       "      <td>1998</td>\n",
       "      <td>1</td>\n",
       "      <td>2</td>\n",
       "      <td>0</td>\n",
       "      <td>-0.85</td>\n",
       "    </tr>\n",
       "    <tr>\n",
       "      <th>4</th>\n",
       "      <td>1297</td>\n",
       "      <td>-0.93</td>\n",
       "      <td>0</td>\n",
       "      <td>-1.28</td>\n",
       "      <td>9</td>\n",
       "      <td>-1.40</td>\n",
       "      <td>1</td>\n",
       "      <td>1987</td>\n",
       "      <td>1</td>\n",
       "      <td>2</td>\n",
       "      <td>1</td>\n",
       "      <td>-0.70</td>\n",
       "    </tr>\n",
       "    <tr>\n",
       "      <th>5</th>\n",
       "      <td>758</td>\n",
       "      <td>-0.58</td>\n",
       "      <td>1</td>\n",
       "      <td>-1.28</td>\n",
       "      <td>0</td>\n",
       "      <td>-1.44</td>\n",
       "      <td>3</td>\n",
       "      <td>2009</td>\n",
       "      <td>0</td>\n",
       "      <td>2</td>\n",
       "      <td>2</td>\n",
       "      <td>-0.95</td>\n",
       "    </tr>\n",
       "    <tr>\n",
       "      <th>6</th>\n",
       "      <td>696</td>\n",
       "      <td>0.19</td>\n",
       "      <td>1</td>\n",
       "      <td>-1.03</td>\n",
       "      <td>13</td>\n",
       "      <td>-1.34</td>\n",
       "      <td>1</td>\n",
       "      <td>1987</td>\n",
       "      <td>1</td>\n",
       "      <td>2</td>\n",
       "      <td>1</td>\n",
       "      <td>-1.08</td>\n",
       "    </tr>\n",
       "    <tr>\n",
       "      <th>7</th>\n",
       "      <td>738</td>\n",
       "      <td>0.00</td>\n",
       "      <td>0</td>\n",
       "      <td>1.19</td>\n",
       "      <td>13</td>\n",
       "      <td>-0.53</td>\n",
       "      <td>5</td>\n",
       "      <td>1985</td>\n",
       "      <td>0</td>\n",
       "      <td>2</td>\n",
       "      <td>3</td>\n",
       "      <td>1.08</td>\n",
       "    </tr>\n",
       "    <tr>\n",
       "      <th>8</th>\n",
       "      <td>440</td>\n",
       "      <td>0.79</td>\n",
       "      <td>1</td>\n",
       "      <td>-0.96</td>\n",
       "      <td>5</td>\n",
       "      <td>-0.71</td>\n",
       "      <td>7</td>\n",
       "      <td>2002</td>\n",
       "      <td>1</td>\n",
       "      <td>1</td>\n",
       "      <td>1</td>\n",
       "      <td>-0.65</td>\n",
       "    </tr>\n",
       "    <tr>\n",
       "      <th>9</th>\n",
       "      <td>990</td>\n",
       "      <td>1.50</td>\n",
       "      <td>1</td>\n",
       "      <td>0.55</td>\n",
       "      <td>5</td>\n",
       "      <td>0.75</td>\n",
       "      <td>2</td>\n",
       "      <td>2007</td>\n",
       "      <td>1</td>\n",
       "      <td>1</td>\n",
       "      <td>1</td>\n",
       "      <td>1.48</td>\n",
       "    </tr>\n",
       "  </tbody>\n",
       "</table>\n",
       "</div>"
      ],
      "text/plain": [
       "   Item_Identifier  Item_Weight  Item_Fat_Content  Item_Visibility  Item_Type  \\\n",
       "0              156        -0.84                 0            -0.97          4   \n",
       "1                8        -1.64                 1            -0.91         14   \n",
       "2              662         1.10                 0            -0.96         10   \n",
       "3             1121         1.50                 1            -1.28          6   \n",
       "4             1297        -0.93                 0            -1.28          9   \n",
       "5              758        -0.58                 1            -1.28          0   \n",
       "6              696         0.19                 1            -1.03         13   \n",
       "7              738         0.00                 0             1.19         13   \n",
       "8              440         0.79                 1            -0.96          5   \n",
       "9              990         1.50                 1             0.55          5   \n",
       "\n",
       "   Item_MRP  Outlet_Identifier  Outlet_Establishment_Year  Outlet_Size  \\\n",
       "0      1.75                  9                       1999            1   \n",
       "1     -1.49                  3                       2009            0   \n",
       "2      0.01                  9                       1999            1   \n",
       "3      0.66                  0                       1998            1   \n",
       "4     -1.40                  1                       1987            1   \n",
       "5     -1.44                  3                       2009            0   \n",
       "6     -1.34                  1                       1987            1   \n",
       "7     -0.53                  5                       1985            0   \n",
       "8     -0.71                  7                       2002            1   \n",
       "9      0.75                  2                       2007            1   \n",
       "\n",
       "   Outlet_Location_Type  Outlet_Type  Item_Outlet_Sales  \n",
       "0                     0            1               0.91  \n",
       "1                     2            2              -1.02  \n",
       "2                     0            1              -0.05  \n",
       "3                     2            0              -0.85  \n",
       "4                     2            1              -0.70  \n",
       "5                     2            2              -0.95  \n",
       "6                     2            1              -1.08  \n",
       "7                     2            3               1.08  \n",
       "8                     1            1              -0.65  \n",
       "9                     1            1               1.48  "
      ]
     },
     "execution_count": 112,
     "metadata": {},
     "output_type": "execute_result"
    }
   ],
   "source": [
    "sc = StandardScaler()\n",
    "\n",
    "df_train['Item_Weight'] = sc.fit_transform(df_train['Item_Weight'].values.reshape(-1,1))\n",
    "\n",
    "df_train['Item_Visibility'] = sc.fit_transform(df_train['Item_Visibility'].values.reshape(-1,1))\n",
    "\n",
    "df_train['Item_MRP'] = sc.fit_transform(df_train['Item_MRP'].values.reshape(-1,1))\n",
    "\n",
    "df_train['Item_Outlet_Sales'] = sc.fit_transform(df_train['Item_Outlet_Sales'].values.reshape(-1,1))\n",
    "\n",
    "df_train.head(10)"
   ]
  },
  {
   "cell_type": "markdown",
   "metadata": {},
   "source": [
    "### **<font color = \"green\">Seperate Features from Label</font>**"
   ]
  },
  {
   "cell_type": "code",
   "execution_count": 113,
   "metadata": {
    "execution": {
     "iopub.execute_input": "2024-01-10T02:51:17.071649Z",
     "iopub.status.busy": "2024-01-10T02:51:17.071293Z",
     "iopub.status.idle": "2024-01-10T02:51:17.079564Z",
     "shell.execute_reply": "2024-01-10T02:51:17.078374Z",
     "shell.execute_reply.started": "2024-01-10T02:51:17.071623Z"
    },
    "trusted": true
   },
   "outputs": [],
   "source": [
    "#sepertate features and target\n",
    "\n",
    "Features = df_train.drop(columns=['Item_Outlet_Sales'])\n",
    "\n",
    "Target = df_train['Item_Outlet_Sales']"
   ]
  },
  {
   "cell_type": "code",
   "execution_count": 114,
   "metadata": {
    "execution": {
     "iopub.execute_input": "2024-01-10T02:51:18.624030Z",
     "iopub.status.busy": "2024-01-10T02:51:18.623643Z",
     "iopub.status.idle": "2024-01-10T02:51:18.643878Z",
     "shell.execute_reply": "2024-01-10T02:51:18.642484Z",
     "shell.execute_reply.started": "2024-01-10T02:51:18.623998Z"
    },
    "trusted": true
   },
   "outputs": [
    {
     "data": {
      "text/html": [
       "<div>\n",
       "<style scoped>\n",
       "    .dataframe tbody tr th:only-of-type {\n",
       "        vertical-align: middle;\n",
       "    }\n",
       "\n",
       "    .dataframe tbody tr th {\n",
       "        vertical-align: top;\n",
       "    }\n",
       "\n",
       "    .dataframe thead th {\n",
       "        text-align: right;\n",
       "    }\n",
       "</style>\n",
       "<table border=\"1\" class=\"dataframe\">\n",
       "  <thead>\n",
       "    <tr style=\"text-align: right;\">\n",
       "      <th></th>\n",
       "      <th>Item_Identifier</th>\n",
       "      <th>Item_Weight</th>\n",
       "      <th>Item_Fat_Content</th>\n",
       "      <th>Item_Visibility</th>\n",
       "      <th>Item_Type</th>\n",
       "      <th>Item_MRP</th>\n",
       "      <th>Outlet_Identifier</th>\n",
       "      <th>Outlet_Establishment_Year</th>\n",
       "      <th>Outlet_Size</th>\n",
       "      <th>Outlet_Location_Type</th>\n",
       "      <th>Outlet_Type</th>\n",
       "    </tr>\n",
       "  </thead>\n",
       "  <tbody>\n",
       "    <tr>\n",
       "      <th>0</th>\n",
       "      <td>156</td>\n",
       "      <td>-0.84</td>\n",
       "      <td>0</td>\n",
       "      <td>-0.97</td>\n",
       "      <td>4</td>\n",
       "      <td>1.75</td>\n",
       "      <td>9</td>\n",
       "      <td>1999</td>\n",
       "      <td>1</td>\n",
       "      <td>0</td>\n",
       "      <td>1</td>\n",
       "    </tr>\n",
       "    <tr>\n",
       "      <th>1</th>\n",
       "      <td>8</td>\n",
       "      <td>-1.64</td>\n",
       "      <td>1</td>\n",
       "      <td>-0.91</td>\n",
       "      <td>14</td>\n",
       "      <td>-1.49</td>\n",
       "      <td>3</td>\n",
       "      <td>2009</td>\n",
       "      <td>0</td>\n",
       "      <td>2</td>\n",
       "      <td>2</td>\n",
       "    </tr>\n",
       "    <tr>\n",
       "      <th>2</th>\n",
       "      <td>662</td>\n",
       "      <td>1.10</td>\n",
       "      <td>0</td>\n",
       "      <td>-0.96</td>\n",
       "      <td>10</td>\n",
       "      <td>0.01</td>\n",
       "      <td>9</td>\n",
       "      <td>1999</td>\n",
       "      <td>1</td>\n",
       "      <td>0</td>\n",
       "      <td>1</td>\n",
       "    </tr>\n",
       "    <tr>\n",
       "      <th>3</th>\n",
       "      <td>1121</td>\n",
       "      <td>1.50</td>\n",
       "      <td>1</td>\n",
       "      <td>-1.28</td>\n",
       "      <td>6</td>\n",
       "      <td>0.66</td>\n",
       "      <td>0</td>\n",
       "      <td>1998</td>\n",
       "      <td>1</td>\n",
       "      <td>2</td>\n",
       "      <td>0</td>\n",
       "    </tr>\n",
       "    <tr>\n",
       "      <th>4</th>\n",
       "      <td>1297</td>\n",
       "      <td>-0.93</td>\n",
       "      <td>0</td>\n",
       "      <td>-1.28</td>\n",
       "      <td>9</td>\n",
       "      <td>-1.40</td>\n",
       "      <td>1</td>\n",
       "      <td>1987</td>\n",
       "      <td>1</td>\n",
       "      <td>2</td>\n",
       "      <td>1</td>\n",
       "    </tr>\n",
       "    <tr>\n",
       "      <th>...</th>\n",
       "      <td>...</td>\n",
       "      <td>...</td>\n",
       "      <td>...</td>\n",
       "      <td>...</td>\n",
       "      <td>...</td>\n",
       "      <td>...</td>\n",
       "      <td>...</td>\n",
       "      <td>...</td>\n",
       "      <td>...</td>\n",
       "      <td>...</td>\n",
       "      <td>...</td>\n",
       "    </tr>\n",
       "    <tr>\n",
       "      <th>8518</th>\n",
       "      <td>370</td>\n",
       "      <td>-1.42</td>\n",
       "      <td>0</td>\n",
       "      <td>-0.18</td>\n",
       "      <td>13</td>\n",
       "      <td>1.18</td>\n",
       "      <td>1</td>\n",
       "      <td>1987</td>\n",
       "      <td>1</td>\n",
       "      <td>2</td>\n",
       "      <td>1</td>\n",
       "    </tr>\n",
       "    <tr>\n",
       "      <th>8519</th>\n",
       "      <td>897</td>\n",
       "      <td>-1.06</td>\n",
       "      <td>1</td>\n",
       "      <td>-0.37</td>\n",
       "      <td>0</td>\n",
       "      <td>-0.53</td>\n",
       "      <td>7</td>\n",
       "      <td>2002</td>\n",
       "      <td>1</td>\n",
       "      <td>1</td>\n",
       "      <td>1</td>\n",
       "    </tr>\n",
       "    <tr>\n",
       "      <th>8520</th>\n",
       "      <td>1357</td>\n",
       "      <td>-0.53</td>\n",
       "      <td>0</td>\n",
       "      <td>-0.60</td>\n",
       "      <td>8</td>\n",
       "      <td>-0.90</td>\n",
       "      <td>6</td>\n",
       "      <td>2004</td>\n",
       "      <td>1</td>\n",
       "      <td>1</td>\n",
       "      <td>1</td>\n",
       "    </tr>\n",
       "    <tr>\n",
       "      <th>8521</th>\n",
       "      <td>681</td>\n",
       "      <td>-1.34</td>\n",
       "      <td>1</td>\n",
       "      <td>1.53</td>\n",
       "      <td>13</td>\n",
       "      <td>-0.61</td>\n",
       "      <td>3</td>\n",
       "      <td>2009</td>\n",
       "      <td>0</td>\n",
       "      <td>2</td>\n",
       "      <td>2</td>\n",
       "    </tr>\n",
       "    <tr>\n",
       "      <th>8522</th>\n",
       "      <td>50</td>\n",
       "      <td>0.46</td>\n",
       "      <td>0</td>\n",
       "      <td>-0.41</td>\n",
       "      <td>14</td>\n",
       "      <td>-1.05</td>\n",
       "      <td>8</td>\n",
       "      <td>1997</td>\n",
       "      <td>1</td>\n",
       "      <td>0</td>\n",
       "      <td>1</td>\n",
       "    </tr>\n",
       "  </tbody>\n",
       "</table>\n",
       "<p>8523 rows × 11 columns</p>\n",
       "</div>"
      ],
      "text/plain": [
       "      Item_Identifier  Item_Weight  Item_Fat_Content  Item_Visibility  \\\n",
       "0                 156        -0.84                 0            -0.97   \n",
       "1                   8        -1.64                 1            -0.91   \n",
       "2                 662         1.10                 0            -0.96   \n",
       "3                1121         1.50                 1            -1.28   \n",
       "4                1297        -0.93                 0            -1.28   \n",
       "...               ...          ...               ...              ...   \n",
       "8518              370        -1.42                 0            -0.18   \n",
       "8519              897        -1.06                 1            -0.37   \n",
       "8520             1357        -0.53                 0            -0.60   \n",
       "8521              681        -1.34                 1             1.53   \n",
       "8522               50         0.46                 0            -0.41   \n",
       "\n",
       "      Item_Type  Item_MRP  Outlet_Identifier  Outlet_Establishment_Year  \\\n",
       "0             4      1.75                  9                       1999   \n",
       "1            14     -1.49                  3                       2009   \n",
       "2            10      0.01                  9                       1999   \n",
       "3             6      0.66                  0                       1998   \n",
       "4             9     -1.40                  1                       1987   \n",
       "...         ...       ...                ...                        ...   \n",
       "8518         13      1.18                  1                       1987   \n",
       "8519          0     -0.53                  7                       2002   \n",
       "8520          8     -0.90                  6                       2004   \n",
       "8521         13     -0.61                  3                       2009   \n",
       "8522         14     -1.05                  8                       1997   \n",
       "\n",
       "      Outlet_Size  Outlet_Location_Type  Outlet_Type  \n",
       "0               1                     0            1  \n",
       "1               0                     2            2  \n",
       "2               1                     0            1  \n",
       "3               1                     2            0  \n",
       "4               1                     2            1  \n",
       "...           ...                   ...          ...  \n",
       "8518            1                     2            1  \n",
       "8519            1                     1            1  \n",
       "8520            1                     1            1  \n",
       "8521            0                     2            2  \n",
       "8522            1                     0            1  \n",
       "\n",
       "[8523 rows x 11 columns]"
      ]
     },
     "execution_count": 114,
     "metadata": {},
     "output_type": "execute_result"
    }
   ],
   "source": [
    "Features"
   ]
  },
  {
   "cell_type": "code",
   "execution_count": 115,
   "metadata": {
    "execution": {
     "iopub.execute_input": "2024-01-10T02:51:21.631637Z",
     "iopub.status.busy": "2024-01-10T02:51:21.631282Z",
     "iopub.status.idle": "2024-01-10T02:51:21.641654Z",
     "shell.execute_reply": "2024-01-10T02:51:21.640838Z",
     "shell.execute_reply.started": "2024-01-10T02:51:21.631604Z"
    },
    "trusted": true
   },
   "outputs": [
    {
     "data": {
      "text/plain": [
       "0       0.91\n",
       "1      -1.02\n",
       "2      -0.05\n",
       "3      -0.85\n",
       "4      -0.70\n",
       "        ... \n",
       "8518    0.35\n",
       "8519   -0.96\n",
       "8520   -0.58\n",
       "8521   -0.20\n",
       "8522   -0.83\n",
       "Name: Item_Outlet_Sales, Length: 8523, dtype: float64"
      ]
     },
     "execution_count": 115,
     "metadata": {},
     "output_type": "execute_result"
    }
   ],
   "source": [
    "Target"
   ]
  },
  {
   "cell_type": "markdown",
   "metadata": {},
   "source": [
    "### **<font color = \"green\">Split data into train and test sets</font>**"
   ]
  },
  {
   "cell_type": "code",
   "execution_count": 116,
   "metadata": {
    "execution": {
     "iopub.execute_input": "2024-01-10T02:51:23.627121Z",
     "iopub.status.busy": "2024-01-10T02:51:23.626682Z",
     "iopub.status.idle": "2024-01-10T02:51:23.637194Z",
     "shell.execute_reply": "2024-01-10T02:51:23.635886Z",
     "shell.execute_reply.started": "2024-01-10T02:51:23.627059Z"
    },
    "trusted": true
   },
   "outputs": [],
   "source": [
    "#splittting data into training and testing data\n",
    "Features_train,Features_test,Target_train,Target_test = train_test_split(Features,Target,test_size=0.2,random_state=42)"
   ]
  },
  {
   "cell_type": "code",
   "execution_count": 117,
   "metadata": {
    "execution": {
     "iopub.execute_input": "2024-01-10T02:51:24.110845Z",
     "iopub.status.busy": "2024-01-10T02:51:24.110458Z",
     "iopub.status.idle": "2024-01-10T02:51:24.117564Z",
     "shell.execute_reply": "2024-01-10T02:51:24.116211Z",
     "shell.execute_reply.started": "2024-01-10T02:51:24.110815Z"
    },
    "trusted": true
   },
   "outputs": [
    {
     "name": "stdout",
     "output_type": "stream",
     "text": [
      "Shape of Features: (8523, 11)\n",
      "Shape of Features_train: (6818, 11)\n",
      "Shape of Features_test: (1705, 11)\n"
     ]
    }
   ],
   "source": [
    "#print shape of features and training and testing data of features\n",
    "print(\"Shape of Features:\",Features.shape)\n",
    "print(\"Shape of Features_train:\",Features_train.shape)\n",
    "print(\"Shape of Features_test:\",Features_test.shape)"
   ]
  },
  {
   "cell_type": "code",
   "execution_count": 118,
   "metadata": {
    "execution": {
     "iopub.execute_input": "2024-01-10T02:51:24.881027Z",
     "iopub.status.busy": "2024-01-10T02:51:24.880646Z",
     "iopub.status.idle": "2024-01-10T02:51:24.888308Z",
     "shell.execute_reply": "2024-01-10T02:51:24.886690Z",
     "shell.execute_reply.started": "2024-01-10T02:51:24.880994Z"
    },
    "trusted": true
   },
   "outputs": [
    {
     "name": "stdout",
     "output_type": "stream",
     "text": [
      "Shape of Target: (8523,)\n",
      "Shape of Target_train: (6818,)\n",
      "Shape of Target_test: (1705,)\n"
     ]
    }
   ],
   "source": [
    "#print shape of Target and training and testing data of Target\n",
    "print(\"Shape of Target:\",Target.shape)\n",
    "print(\"Shape of Target_train:\",Target_train.shape)\n",
    "print(\"Shape of Target_test:\",Target_test.shape)"
   ]
  },
  {
   "cell_type": "markdown",
   "metadata": {},
   "source": [
    "### **<font color = \"green\">Building Model</font>**\n",
    "\n",
    "#### **<font color = \"purple\">Building  XGBRegressor Model</font>**"
   ]
  },
  {
   "cell_type": "code",
   "execution_count": 119,
   "metadata": {
    "execution": {
     "iopub.execute_input": "2024-01-10T02:51:26.499561Z",
     "iopub.status.busy": "2024-01-10T02:51:26.499197Z",
     "iopub.status.idle": "2024-01-10T02:51:26.708891Z",
     "shell.execute_reply": "2024-01-10T02:51:26.708171Z",
     "shell.execute_reply.started": "2024-01-10T02:51:26.499533Z"
    },
    "trusted": true
   },
   "outputs": [
    {
     "name": "stdout",
     "output_type": "stream",
     "text": [
      "R-Squared: 0.5119126417237851\n",
      "Mean Absolute Error: 0.47173654608004656\n",
      "Mean Squared Error: 0.45559693922553346\n"
     ]
    }
   ],
   "source": [
    "#build model with XGBRegressor\n",
    "XGBRModel = XGBRegressor()\n",
    "\n",
    "#fit the model\n",
    "XGBRModel.fit(Features_train,Target_train)\n",
    "\n",
    "#predict the model\n",
    "Target_pred = XGBRModel.predict(Features_test)\n",
    "\n",
    "#calculate R-Squared\n",
    "r2_score = metrics.r2_score(Target_test,Target_pred)\n",
    "print(\"R-Squared:\",r2_score)\n",
    "\n",
    "#calculate Mean Absolute Error\n",
    "mae = metrics.mean_absolute_error(Target_test,Target_pred)\n",
    "print(\"Mean Absolute Error:\",mae)\n",
    "\n",
    "#calculate Mean Squared Error\n",
    "mse = metrics.mean_squared_error(Target_test,Target_pred)\n",
    "print(\"Mean Squared Error:\",mse)\n"
   ]
  },
  {
   "cell_type": "code",
   "execution_count": 120,
   "metadata": {
    "execution": {
     "iopub.execute_input": "2024-01-10T02:51:33.831287Z",
     "iopub.status.busy": "2024-01-10T02:51:33.830908Z",
     "iopub.status.idle": "2024-01-10T02:51:35.864607Z",
     "shell.execute_reply": "2024-01-10T02:51:35.863766Z",
     "shell.execute_reply.started": "2024-01-10T02:51:33.831256Z"
    },
    "trusted": true
   },
   "outputs": [
    {
     "name": "stdout",
     "output_type": "stream",
     "text": [
      "R-Squared: -0.02444700281512624\n",
      "Mean Absolute Error: 0.7432809334031228\n",
      "Mean Squared Error: 0.9562528325456272\n"
     ]
    }
   ],
   "source": [
    "#build model with SVLRegressor\n",
    "model = SVR()\n",
    "\n",
    "#fit the model\n",
    "model.fit(Features_train,Target_train)\n",
    "\n",
    "#predict the model\n",
    "Target_pred = model.predict(Features_test)\n",
    "\n",
    "#calculate R-Squared\n",
    "r2_score = metrics.r2_score(Target_test,Target_pred)\n",
    "print(\"R-Squared:\",r2_score)\n",
    "\n",
    "#calculate Mean Absolute Error\n",
    "mae = metrics.mean_absolute_error(Target_test,Target_pred)\n",
    "print(\"Mean Absolute Error:\",mae)\n",
    "\n",
    "#calculate Mean Squared Error\n",
    "mse = metrics.mean_squared_error(Target_test,Target_pred)\n",
    "print(\"Mean Squared Error:\",mse)"
   ]
  },
  {
   "cell_type": "code",
   "execution_count": 121,
   "metadata": {
    "execution": {
     "iopub.execute_input": "2024-01-10T02:51:37.815964Z",
     "iopub.status.busy": "2024-01-10T02:51:37.815316Z",
     "iopub.status.idle": "2024-01-10T02:51:40.923331Z",
     "shell.execute_reply": "2024-01-10T02:51:40.922191Z",
     "shell.execute_reply.started": "2024-01-10T02:51:37.815921Z"
    },
    "trusted": true
   },
   "outputs": [
    {
     "name": "stdout",
     "output_type": "stream",
     "text": [
      "R-Squared: 0.5609553753585166\n",
      "Mean Absolute Error: 0.44720143147441666\n",
      "Mean Squared Error: 0.4098188239837283\n"
     ]
    }
   ],
   "source": [
    "#build model with RandomForestRegressor\n",
    "model = RandomForestRegressor()\n",
    "\n",
    "#fit the model\n",
    "model.fit(Features_train,Target_train)\n",
    "\n",
    "#predict the model\n",
    "Target_pred = model.predict(Features_test)\n",
    "\n",
    "#calculate R-Squared\n",
    "r2_score = metrics.r2_score(Target_test,Target_pred)\n",
    "print(\"R-Squared:\",r2_score)\n",
    "\n",
    "#calculate Mean Absolute Error\n",
    "mae = metrics.mean_absolute_error(Target_test,Target_pred)\n",
    "print(\"Mean Absolute Error:\",mae)\n",
    "\n",
    "#calculate Mean Squared Error\n",
    "mse = metrics.mean_squared_error(Target_test,Target_pred)\n",
    "print(\"Mean Squared Error:\",mse)\n"
   ]
  },
  {
   "cell_type": "code",
   "execution_count": 122,
   "metadata": {
    "execution": {
     "iopub.execute_input": "2024-01-10T02:53:50.886003Z",
     "iopub.status.busy": "2024-01-10T02:53:50.885648Z",
     "iopub.status.idle": "2024-01-10T02:53:51.967261Z",
     "shell.execute_reply": "2024-01-10T02:53:51.966176Z",
     "shell.execute_reply.started": "2024-01-10T02:53:50.885976Z"
    },
    "trusted": true
   },
   "outputs": [
    {
     "name": "stdout",
     "output_type": "stream",
     "text": [
      "R-Squared: 0.6038000818147888\n",
      "Mean Absolute Error: 0.424437971219231\n",
      "Mean Squared Error: 0.3698261530150869\n"
     ]
    }
   ],
   "source": [
    "#build model with GradientBoostingRegressor\n",
    "model = GradientBoostingRegressor()\n",
    "\n",
    "#fit the model\n",
    "model.fit(Features_train,Target_train)\n",
    "\n",
    "#predict the model\n",
    "Target_pred = model.predict(Features_test)\n",
    "\n",
    "#calculate R-Squared\n",
    "r2_score = metrics.r2_score(Target_test,Target_pred)\n",
    "print(\"R-Squared:\",r2_score)\n",
    "\n",
    "#calculate Mean Absolute Error\n",
    "mae = metrics.mean_absolute_error(Target_test,Target_pred)\n",
    "print(\"Mean Absolute Error:\",mae)\n",
    "\n",
    "#calculate Mean Squared Error\n",
    "mse = metrics.mean_squared_error(Target_test,Target_pred)\n",
    "print(\"Mean Squared Error:\",mse)"
   ]
  },
  {
   "cell_type": "code",
   "execution_count": 123,
   "metadata": {
    "execution": {
     "iopub.execute_input": "2024-01-10T02:53:56.747224Z",
     "iopub.status.busy": "2024-01-10T02:53:56.746839Z",
     "iopub.status.idle": "2024-01-10T02:53:57.858596Z",
     "shell.execute_reply": "2024-01-10T02:53:57.857687Z",
     "shell.execute_reply.started": "2024-01-10T02:53:56.747193Z"
    },
    "trusted": true
   },
   "outputs": [
    {
     "name": "stdout",
     "output_type": "stream",
     "text": [
      "[LightGBM] [Info] Auto-choosing row-wise multi-threading, the overhead of testing was 0.000690 seconds.\n",
      "You can set `force_row_wise=true` to remove the overhead.\n",
      "And if memory is not enough, you can set `force_col_wise=true`.\n",
      "[LightGBM] [Info] Total Bins 1027\n",
      "[LightGBM] [Info] Number of data points in the train set: 6818, number of used features: 11\n",
      "[LightGBM] [Info] Start training from score 0.012351\n",
      "R-Squared: 0.5865680743618109\n",
      "Mean Absolute Error: 0.43394911824178806\n",
      "Mean Squared Error: 0.3859110806805262\n"
     ]
    }
   ],
   "source": [
    "#build model with LGBMRegressor\n",
    "model = LGBMRegressor()\n",
    "\n",
    "#fit the model\n",
    "model.fit(Features_train,Target_train)\n",
    "\n",
    "#predict the model\n",
    "Target_pred = model.predict(Features_test)\n",
    "\n",
    "#calculate R-Squared\n",
    "r2_score = metrics.r2_score(Target_test,Target_pred)\n",
    "print(\"R-Squared:\",r2_score)\n",
    "\n",
    "#calculate Mean Absolute Error\n",
    "mae = metrics.mean_absolute_error(Target_test,Target_pred)\n",
    "print(\"Mean Absolute Error:\",mae)\n",
    "\n",
    "#calculate Mean Squared Error\n",
    "mse = metrics.mean_squared_error(Target_test,Target_pred)\n",
    "print(\"Mean Squared Error:\",mse)\n"
   ]
  },
  {
   "cell_type": "code",
   "execution_count": 124,
   "metadata": {
    "execution": {
     "iopub.execute_input": "2024-01-10T02:54:01.885929Z",
     "iopub.status.busy": "2024-01-10T02:54:01.884855Z",
     "iopub.status.idle": "2024-01-10T02:54:01.896573Z",
     "shell.execute_reply": "2024-01-10T02:54:01.895354Z",
     "shell.execute_reply.started": "2024-01-10T02:54:01.885874Z"
    },
    "trusted": true
   },
   "outputs": [
    {
     "data": {
      "text/plain": [
       "['XGBRegressor.joblib']"
      ]
     },
     "execution_count": 124,
     "metadata": {},
     "output_type": "execute_result"
    }
   ],
   "source": [
    "#Save the model\n",
    "from joblib import dump\n",
    "dump(XGBRModel, 'XGBRegressor.joblib')"
   ]
  },
  {
   "cell_type": "code",
   "execution_count": 125,
   "metadata": {
    "execution": {
     "iopub.execute_input": "2024-01-10T02:54:04.513807Z",
     "iopub.status.busy": "2024-01-10T02:54:04.513449Z",
     "iopub.status.idle": "2024-01-10T02:54:04.550728Z",
     "shell.execute_reply": "2024-01-10T02:54:04.549171Z",
     "shell.execute_reply.started": "2024-01-10T02:54:04.513774Z"
    },
    "trusted": true
   },
   "outputs": [
    {
     "data": {
      "text/html": [
       "<div>\n",
       "<style scoped>\n",
       "    .dataframe tbody tr th:only-of-type {\n",
       "        vertical-align: middle;\n",
       "    }\n",
       "\n",
       "    .dataframe tbody tr th {\n",
       "        vertical-align: top;\n",
       "    }\n",
       "\n",
       "    .dataframe thead th {\n",
       "        text-align: right;\n",
       "    }\n",
       "</style>\n",
       "<table border=\"1\" class=\"dataframe\">\n",
       "  <thead>\n",
       "    <tr style=\"text-align: right;\">\n",
       "      <th></th>\n",
       "      <th>Item_Identifier</th>\n",
       "      <th>Item_Weight</th>\n",
       "      <th>Item_Fat_Content</th>\n",
       "      <th>Item_Visibility</th>\n",
       "      <th>Item_Type</th>\n",
       "      <th>Item_MRP</th>\n",
       "      <th>Outlet_Identifier</th>\n",
       "      <th>Outlet_Establishment_Year</th>\n",
       "      <th>Outlet_Size</th>\n",
       "      <th>Outlet_Location_Type</th>\n",
       "      <th>Outlet_Type</th>\n",
       "    </tr>\n",
       "  </thead>\n",
       "  <tbody>\n",
       "    <tr>\n",
       "      <th>0</th>\n",
       "      <td>FDW58</td>\n",
       "      <td>20.75</td>\n",
       "      <td>Low Fat</td>\n",
       "      <td>0.01</td>\n",
       "      <td>Snack Foods</td>\n",
       "      <td>107.86</td>\n",
       "      <td>OUT049</td>\n",
       "      <td>1999</td>\n",
       "      <td>Medium</td>\n",
       "      <td>Tier 1</td>\n",
       "      <td>Supermarket Type1</td>\n",
       "    </tr>\n",
       "    <tr>\n",
       "      <th>1</th>\n",
       "      <td>FDW14</td>\n",
       "      <td>8.30</td>\n",
       "      <td>reg</td>\n",
       "      <td>0.04</td>\n",
       "      <td>Dairy</td>\n",
       "      <td>87.32</td>\n",
       "      <td>OUT017</td>\n",
       "      <td>2007</td>\n",
       "      <td>NaN</td>\n",
       "      <td>Tier 2</td>\n",
       "      <td>Supermarket Type1</td>\n",
       "    </tr>\n",
       "    <tr>\n",
       "      <th>2</th>\n",
       "      <td>NCN55</td>\n",
       "      <td>14.60</td>\n",
       "      <td>Low Fat</td>\n",
       "      <td>0.10</td>\n",
       "      <td>Others</td>\n",
       "      <td>241.75</td>\n",
       "      <td>OUT010</td>\n",
       "      <td>1998</td>\n",
       "      <td>NaN</td>\n",
       "      <td>Tier 3</td>\n",
       "      <td>Grocery Store</td>\n",
       "    </tr>\n",
       "    <tr>\n",
       "      <th>3</th>\n",
       "      <td>FDQ58</td>\n",
       "      <td>7.32</td>\n",
       "      <td>Low Fat</td>\n",
       "      <td>0.02</td>\n",
       "      <td>Snack Foods</td>\n",
       "      <td>155.03</td>\n",
       "      <td>OUT017</td>\n",
       "      <td>2007</td>\n",
       "      <td>NaN</td>\n",
       "      <td>Tier 2</td>\n",
       "      <td>Supermarket Type1</td>\n",
       "    </tr>\n",
       "    <tr>\n",
       "      <th>4</th>\n",
       "      <td>FDY38</td>\n",
       "      <td>NaN</td>\n",
       "      <td>Regular</td>\n",
       "      <td>0.12</td>\n",
       "      <td>Dairy</td>\n",
       "      <td>234.23</td>\n",
       "      <td>OUT027</td>\n",
       "      <td>1985</td>\n",
       "      <td>Medium</td>\n",
       "      <td>Tier 3</td>\n",
       "      <td>Supermarket Type3</td>\n",
       "    </tr>\n",
       "    <tr>\n",
       "      <th>5</th>\n",
       "      <td>FDH56</td>\n",
       "      <td>9.80</td>\n",
       "      <td>Regular</td>\n",
       "      <td>0.06</td>\n",
       "      <td>Fruits and Vegetables</td>\n",
       "      <td>117.15</td>\n",
       "      <td>OUT046</td>\n",
       "      <td>1997</td>\n",
       "      <td>Small</td>\n",
       "      <td>Tier 1</td>\n",
       "      <td>Supermarket Type1</td>\n",
       "    </tr>\n",
       "    <tr>\n",
       "      <th>6</th>\n",
       "      <td>FDL48</td>\n",
       "      <td>19.35</td>\n",
       "      <td>Regular</td>\n",
       "      <td>0.08</td>\n",
       "      <td>Baking Goods</td>\n",
       "      <td>50.10</td>\n",
       "      <td>OUT018</td>\n",
       "      <td>2009</td>\n",
       "      <td>Medium</td>\n",
       "      <td>Tier 3</td>\n",
       "      <td>Supermarket Type2</td>\n",
       "    </tr>\n",
       "    <tr>\n",
       "      <th>7</th>\n",
       "      <td>FDC48</td>\n",
       "      <td>NaN</td>\n",
       "      <td>Low Fat</td>\n",
       "      <td>0.02</td>\n",
       "      <td>Baking Goods</td>\n",
       "      <td>81.06</td>\n",
       "      <td>OUT027</td>\n",
       "      <td>1985</td>\n",
       "      <td>Medium</td>\n",
       "      <td>Tier 3</td>\n",
       "      <td>Supermarket Type3</td>\n",
       "    </tr>\n",
       "    <tr>\n",
       "      <th>8</th>\n",
       "      <td>FDN33</td>\n",
       "      <td>6.30</td>\n",
       "      <td>Regular</td>\n",
       "      <td>0.12</td>\n",
       "      <td>Snack Foods</td>\n",
       "      <td>95.74</td>\n",
       "      <td>OUT045</td>\n",
       "      <td>2002</td>\n",
       "      <td>NaN</td>\n",
       "      <td>Tier 2</td>\n",
       "      <td>Supermarket Type1</td>\n",
       "    </tr>\n",
       "    <tr>\n",
       "      <th>9</th>\n",
       "      <td>FDA36</td>\n",
       "      <td>5.99</td>\n",
       "      <td>Low Fat</td>\n",
       "      <td>0.01</td>\n",
       "      <td>Baking Goods</td>\n",
       "      <td>186.89</td>\n",
       "      <td>OUT017</td>\n",
       "      <td>2007</td>\n",
       "      <td>NaN</td>\n",
       "      <td>Tier 2</td>\n",
       "      <td>Supermarket Type1</td>\n",
       "    </tr>\n",
       "  </tbody>\n",
       "</table>\n",
       "</div>"
      ],
      "text/plain": [
       "  Item_Identifier  Item_Weight Item_Fat_Content  Item_Visibility  \\\n",
       "0           FDW58        20.75          Low Fat             0.01   \n",
       "1           FDW14         8.30              reg             0.04   \n",
       "2           NCN55        14.60          Low Fat             0.10   \n",
       "3           FDQ58         7.32          Low Fat             0.02   \n",
       "4           FDY38          NaN          Regular             0.12   \n",
       "5           FDH56         9.80          Regular             0.06   \n",
       "6           FDL48        19.35          Regular             0.08   \n",
       "7           FDC48          NaN          Low Fat             0.02   \n",
       "8           FDN33         6.30          Regular             0.12   \n",
       "9           FDA36         5.99          Low Fat             0.01   \n",
       "\n",
       "               Item_Type  Item_MRP Outlet_Identifier  \\\n",
       "0            Snack Foods    107.86            OUT049   \n",
       "1                  Dairy     87.32            OUT017   \n",
       "2                 Others    241.75            OUT010   \n",
       "3            Snack Foods    155.03            OUT017   \n",
       "4                  Dairy    234.23            OUT027   \n",
       "5  Fruits and Vegetables    117.15            OUT046   \n",
       "6           Baking Goods     50.10            OUT018   \n",
       "7           Baking Goods     81.06            OUT027   \n",
       "8            Snack Foods     95.74            OUT045   \n",
       "9           Baking Goods    186.89            OUT017   \n",
       "\n",
       "   Outlet_Establishment_Year Outlet_Size Outlet_Location_Type  \\\n",
       "0                       1999      Medium               Tier 1   \n",
       "1                       2007         NaN               Tier 2   \n",
       "2                       1998         NaN               Tier 3   \n",
       "3                       2007         NaN               Tier 2   \n",
       "4                       1985      Medium               Tier 3   \n",
       "5                       1997       Small               Tier 1   \n",
       "6                       2009      Medium               Tier 3   \n",
       "7                       1985      Medium               Tier 3   \n",
       "8                       2002         NaN               Tier 2   \n",
       "9                       2007         NaN               Tier 2   \n",
       "\n",
       "         Outlet_Type  \n",
       "0  Supermarket Type1  \n",
       "1  Supermarket Type1  \n",
       "2      Grocery Store  \n",
       "3  Supermarket Type1  \n",
       "4  Supermarket Type3  \n",
       "5  Supermarket Type1  \n",
       "6  Supermarket Type2  \n",
       "7  Supermarket Type3  \n",
       "8  Supermarket Type1  \n",
       "9  Supermarket Type1  "
      ]
     },
     "execution_count": 125,
     "metadata": {},
     "output_type": "execute_result"
    }
   ],
   "source": [
    "#Read test data\n",
    "df_test = pd.read_csv('/Users/varadagupta/Desktop/projects/sales prediction/Test.csv')\n",
    "df_test.head(10)\n"
   ]
  },
  {
   "cell_type": "code",
   "execution_count": 126,
   "metadata": {
    "execution": {
     "iopub.execute_input": "2024-01-10T02:54:06.338375Z",
     "iopub.status.busy": "2024-01-10T02:54:06.337999Z",
     "iopub.status.idle": "2024-01-10T02:54:06.344851Z",
     "shell.execute_reply": "2024-01-10T02:54:06.344176Z",
     "shell.execute_reply.started": "2024-01-10T02:54:06.338347Z"
    },
    "trusted": true
   },
   "outputs": [
    {
     "data": {
      "text/plain": [
       "(5681, 11)"
      ]
     },
     "execution_count": 126,
     "metadata": {},
     "output_type": "execute_result"
    }
   ],
   "source": [
    "df_test.shape"
   ]
  },
  {
   "cell_type": "code",
   "execution_count": 127,
   "metadata": {
    "execution": {
     "iopub.execute_input": "2024-01-10T02:54:07.257817Z",
     "iopub.status.busy": "2024-01-10T02:54:07.257208Z",
     "iopub.status.idle": "2024-01-10T02:54:07.270887Z",
     "shell.execute_reply": "2024-01-10T02:54:07.270168Z",
     "shell.execute_reply.started": "2024-01-10T02:54:07.257780Z"
    },
    "trusted": true
   },
   "outputs": [
    {
     "name": "stdout",
     "output_type": "stream",
     "text": [
      "<class 'pandas.core.frame.DataFrame'>\n",
      "RangeIndex: 5681 entries, 0 to 5680\n",
      "Data columns (total 11 columns):\n",
      " #   Column                     Non-Null Count  Dtype  \n",
      "---  ------                     --------------  -----  \n",
      " 0   Item_Identifier            5681 non-null   object \n",
      " 1   Item_Weight                4705 non-null   float64\n",
      " 2   Item_Fat_Content           5681 non-null   object \n",
      " 3   Item_Visibility            5681 non-null   float64\n",
      " 4   Item_Type                  5681 non-null   object \n",
      " 5   Item_MRP                   5681 non-null   float64\n",
      " 6   Outlet_Identifier          5681 non-null   object \n",
      " 7   Outlet_Establishment_Year  5681 non-null   int64  \n",
      " 8   Outlet_Size                4075 non-null   object \n",
      " 9   Outlet_Location_Type       5681 non-null   object \n",
      " 10  Outlet_Type                5681 non-null   object \n",
      "dtypes: float64(3), int64(1), object(7)\n",
      "memory usage: 488.3+ KB\n"
     ]
    }
   ],
   "source": [
    "df_test.info()"
   ]
  },
  {
   "cell_type": "code",
   "execution_count": 128,
   "metadata": {
    "execution": {
     "iopub.execute_input": "2024-01-10T02:54:09.323373Z",
     "iopub.status.busy": "2024-01-10T02:54:09.323029Z",
     "iopub.status.idle": "2024-01-10T02:54:09.335180Z",
     "shell.execute_reply": "2024-01-10T02:54:09.334148Z",
     "shell.execute_reply.started": "2024-01-10T02:54:09.323348Z"
    },
    "trusted": true
   },
   "outputs": [
    {
     "data": {
      "text/plain": [
       "Item_Fat_Content\n",
       "Low Fat    3396\n",
       "Regular    1935\n",
       "LF          206\n",
       "reg          78\n",
       "low fat      66\n",
       "Name: count, dtype: int64"
      ]
     },
     "execution_count": 128,
     "metadata": {},
     "output_type": "execute_result"
    }
   ],
   "source": [
    "#see categories in Item_Fat_Content column\n",
    "df_test['Item_Fat_Content'].value_counts()"
   ]
  },
  {
   "cell_type": "code",
   "execution_count": 129,
   "metadata": {
    "execution": {
     "iopub.execute_input": "2024-01-10T02:54:09.981264Z",
     "iopub.status.busy": "2024-01-10T02:54:09.980914Z",
     "iopub.status.idle": "2024-01-10T02:54:09.990573Z",
     "shell.execute_reply": "2024-01-10T02:54:09.989148Z",
     "shell.execute_reply.started": "2024-01-10T02:54:09.981237Z"
    },
    "trusted": true
   },
   "outputs": [],
   "source": [
    "#handle Item_Fat_Content column categories with replacement\n",
    "df_test['Item_Fat_Content'].replace({'LF':'Low Fat','reg':'Regular','low fat':'Low Fat'},inplace=True)"
   ]
  },
  {
   "cell_type": "code",
   "execution_count": 130,
   "metadata": {
    "execution": {
     "iopub.execute_input": "2024-01-10T02:54:10.541180Z",
     "iopub.status.busy": "2024-01-10T02:54:10.540310Z",
     "iopub.status.idle": "2024-01-10T02:54:10.550151Z",
     "shell.execute_reply": "2024-01-10T02:54:10.548969Z",
     "shell.execute_reply.started": "2024-01-10T02:54:10.541138Z"
    },
    "trusted": true
   },
   "outputs": [
    {
     "data": {
      "text/plain": [
       "Item_Fat_Content\n",
       "Low Fat    3668\n",
       "Regular    2013\n",
       "Name: count, dtype: int64"
      ]
     },
     "execution_count": 130,
     "metadata": {},
     "output_type": "execute_result"
    }
   ],
   "source": [
    "#see categories in Item_Fat_Content column\n",
    "df_test['Item_Fat_Content'].value_counts()"
   ]
  },
  {
   "cell_type": "code",
   "execution_count": 131,
   "metadata": {
    "execution": {
     "iopub.execute_input": "2024-01-10T02:54:12.054587Z",
     "iopub.status.busy": "2024-01-10T02:54:12.054253Z",
     "iopub.status.idle": "2024-01-10T02:54:12.074801Z",
     "shell.execute_reply": "2024-01-10T02:54:12.073265Z",
     "shell.execute_reply.started": "2024-01-10T02:54:12.054563Z"
    },
    "trusted": true
   },
   "outputs": [],
   "source": [
    "#Apply Label Encoding on categorical columns\n",
    "le = LabelEncoder()\n",
    "\n",
    "df_test['Item_Fat_Content'] = le.fit_transform(df_test['Item_Fat_Content'])\n",
    "\n",
    "df_test['Item_Type'] = le.fit_transform(df_test['Item_Type'])\n",
    "\n",
    "df_test['Outlet_Size'] = le.fit_transform(df_test['Outlet_Size'])\n",
    "\n",
    "df_test['Outlet_Location_Type'] = le.fit_transform(df_test['Outlet_Location_Type'])\n",
    "\n",
    "df_test['Outlet_Type'] = le.fit_transform(df_test['Outlet_Type'])\n",
    "\n",
    "df_test['Item_Identifier'] = le.fit_transform(df_test['Item_Identifier'])\n",
    "\n",
    "df_test['Outlet_Identifier'] = le.fit_transform(df_test['Outlet_Identifier'])"
   ]
  },
  {
   "cell_type": "code",
   "execution_count": 132,
   "metadata": {
    "execution": {
     "iopub.execute_input": "2024-01-10T02:54:14.120304Z",
     "iopub.status.busy": "2024-01-10T02:54:14.119892Z",
     "iopub.status.idle": "2024-01-10T02:54:14.136478Z",
     "shell.execute_reply": "2024-01-10T02:54:14.134770Z",
     "shell.execute_reply.started": "2024-01-10T02:54:14.120272Z"
    },
    "trusted": true
   },
   "outputs": [
    {
     "name": "stdout",
     "output_type": "stream",
     "text": [
      "<class 'pandas.core.frame.DataFrame'>\n",
      "RangeIndex: 5681 entries, 0 to 5680\n",
      "Data columns (total 11 columns):\n",
      " #   Column                     Non-Null Count  Dtype  \n",
      "---  ------                     --------------  -----  \n",
      " 0   Item_Identifier            5681 non-null   int64  \n",
      " 1   Item_Weight                4705 non-null   float64\n",
      " 2   Item_Fat_Content           5681 non-null   int64  \n",
      " 3   Item_Visibility            5681 non-null   float64\n",
      " 4   Item_Type                  5681 non-null   int64  \n",
      " 5   Item_MRP                   5681 non-null   float64\n",
      " 6   Outlet_Identifier          5681 non-null   int64  \n",
      " 7   Outlet_Establishment_Year  5681 non-null   int64  \n",
      " 8   Outlet_Size                5681 non-null   int64  \n",
      " 9   Outlet_Location_Type       5681 non-null   int64  \n",
      " 10  Outlet_Type                5681 non-null   int64  \n",
      "dtypes: float64(3), int64(8)\n",
      "memory usage: 488.3 KB\n"
     ]
    }
   ],
   "source": [
    "df_test.info()"
   ]
  },
  {
   "cell_type": "code",
   "execution_count": 133,
   "metadata": {
    "execution": {
     "iopub.execute_input": "2024-01-10T02:54:15.937250Z",
     "iopub.status.busy": "2024-01-10T02:54:15.936891Z",
     "iopub.status.idle": "2024-01-10T02:54:15.956674Z",
     "shell.execute_reply": "2024-01-10T02:54:15.955661Z",
     "shell.execute_reply.started": "2024-01-10T02:54:15.937222Z"
    },
    "trusted": true
   },
   "outputs": [
    {
     "data": {
      "text/html": [
       "<div>\n",
       "<style scoped>\n",
       "    .dataframe tbody tr th:only-of-type {\n",
       "        vertical-align: middle;\n",
       "    }\n",
       "\n",
       "    .dataframe tbody tr th {\n",
       "        vertical-align: top;\n",
       "    }\n",
       "\n",
       "    .dataframe thead th {\n",
       "        text-align: right;\n",
       "    }\n",
       "</style>\n",
       "<table border=\"1\" class=\"dataframe\">\n",
       "  <thead>\n",
       "    <tr style=\"text-align: right;\">\n",
       "      <th></th>\n",
       "      <th>Item_Identifier</th>\n",
       "      <th>Item_Weight</th>\n",
       "      <th>Item_Fat_Content</th>\n",
       "      <th>Item_Visibility</th>\n",
       "      <th>Item_Type</th>\n",
       "      <th>Item_MRP</th>\n",
       "      <th>Outlet_Identifier</th>\n",
       "      <th>Outlet_Establishment_Year</th>\n",
       "      <th>Outlet_Size</th>\n",
       "      <th>Outlet_Location_Type</th>\n",
       "      <th>Outlet_Type</th>\n",
       "    </tr>\n",
       "  </thead>\n",
       "  <tbody>\n",
       "    <tr>\n",
       "      <th>0</th>\n",
       "      <td>1103</td>\n",
       "      <td>1.73</td>\n",
       "      <td>0</td>\n",
       "      <td>-1.13</td>\n",
       "      <td>13</td>\n",
       "      <td>-0.54</td>\n",
       "      <td>9</td>\n",
       "      <td>1999</td>\n",
       "      <td>1</td>\n",
       "      <td>0</td>\n",
       "      <td>1</td>\n",
       "    </tr>\n",
       "    <tr>\n",
       "      <th>1</th>\n",
       "      <td>1067</td>\n",
       "      <td>-0.94</td>\n",
       "      <td>1</td>\n",
       "      <td>-0.53</td>\n",
       "      <td>4</td>\n",
       "      <td>-0.87</td>\n",
       "      <td>2</td>\n",
       "      <td>2007</td>\n",
       "      <td>3</td>\n",
       "      <td>1</td>\n",
       "      <td>1</td>\n",
       "    </tr>\n",
       "    <tr>\n",
       "      <th>2</th>\n",
       "      <td>1406</td>\n",
       "      <td>0.41</td>\n",
       "      <td>0</td>\n",
       "      <td>0.66</td>\n",
       "      <td>11</td>\n",
       "      <td>1.63</td>\n",
       "      <td>0</td>\n",
       "      <td>1998</td>\n",
       "      <td>3</td>\n",
       "      <td>2</td>\n",
       "      <td>0</td>\n",
       "    </tr>\n",
       "    <tr>\n",
       "      <th>3</th>\n",
       "      <td>809</td>\n",
       "      <td>-1.15</td>\n",
       "      <td>0</td>\n",
       "      <td>-0.98</td>\n",
       "      <td>13</td>\n",
       "      <td>0.23</td>\n",
       "      <td>2</td>\n",
       "      <td>2007</td>\n",
       "      <td>3</td>\n",
       "      <td>1</td>\n",
       "      <td>1</td>\n",
       "    </tr>\n",
       "    <tr>\n",
       "      <th>4</th>\n",
       "      <td>1184</td>\n",
       "      <td>NaN</td>\n",
       "      <td>1</td>\n",
       "      <td>1.03</td>\n",
       "      <td>4</td>\n",
       "      <td>1.51</td>\n",
       "      <td>5</td>\n",
       "      <td>1985</td>\n",
       "      <td>1</td>\n",
       "      <td>2</td>\n",
       "      <td>3</td>\n",
       "    </tr>\n",
       "    <tr>\n",
       "      <th>5</th>\n",
       "      <td>461</td>\n",
       "      <td>-0.62</td>\n",
       "      <td>1</td>\n",
       "      <td>-0.04</td>\n",
       "      <td>6</td>\n",
       "      <td>-0.39</td>\n",
       "      <td>8</td>\n",
       "      <td>1997</td>\n",
       "      <td>2</td>\n",
       "      <td>0</td>\n",
       "      <td>1</td>\n",
       "    </tr>\n",
       "    <tr>\n",
       "      <th>6</th>\n",
       "      <td>604</td>\n",
       "      <td>1.43</td>\n",
       "      <td>1</td>\n",
       "      <td>0.33</td>\n",
       "      <td>0</td>\n",
       "      <td>-1.47</td>\n",
       "      <td>3</td>\n",
       "      <td>2009</td>\n",
       "      <td>1</td>\n",
       "      <td>2</td>\n",
       "      <td>2</td>\n",
       "    </tr>\n",
       "    <tr>\n",
       "      <th>7</th>\n",
       "      <td>266</td>\n",
       "      <td>NaN</td>\n",
       "      <td>0</td>\n",
       "      <td>-0.97</td>\n",
       "      <td>0</td>\n",
       "      <td>-0.97</td>\n",
       "      <td>5</td>\n",
       "      <td>1985</td>\n",
       "      <td>1</td>\n",
       "      <td>2</td>\n",
       "      <td>3</td>\n",
       "    </tr>\n",
       "    <tr>\n",
       "      <th>8</th>\n",
       "      <td>668</td>\n",
       "      <td>-1.37</td>\n",
       "      <td>1</td>\n",
       "      <td>1.13</td>\n",
       "      <td>13</td>\n",
       "      <td>-0.73</td>\n",
       "      <td>7</td>\n",
       "      <td>2002</td>\n",
       "      <td>3</td>\n",
       "      <td>1</td>\n",
       "      <td>1</td>\n",
       "    </tr>\n",
       "    <tr>\n",
       "      <th>9</th>\n",
       "      <td>170</td>\n",
       "      <td>-1.44</td>\n",
       "      <td>0</td>\n",
       "      <td>-1.17</td>\n",
       "      <td>0</td>\n",
       "      <td>0.74</td>\n",
       "      <td>2</td>\n",
       "      <td>2007</td>\n",
       "      <td>3</td>\n",
       "      <td>1</td>\n",
       "      <td>1</td>\n",
       "    </tr>\n",
       "  </tbody>\n",
       "</table>\n",
       "</div>"
      ],
      "text/plain": [
       "   Item_Identifier  Item_Weight  Item_Fat_Content  Item_Visibility  Item_Type  \\\n",
       "0             1103         1.73                 0            -1.13         13   \n",
       "1             1067        -0.94                 1            -0.53          4   \n",
       "2             1406         0.41                 0             0.66         11   \n",
       "3              809        -1.15                 0            -0.98         13   \n",
       "4             1184          NaN                 1             1.03          4   \n",
       "5              461        -0.62                 1            -0.04          6   \n",
       "6              604         1.43                 1             0.33          0   \n",
       "7              266          NaN                 0            -0.97          0   \n",
       "8              668        -1.37                 1             1.13         13   \n",
       "9              170        -1.44                 0            -1.17          0   \n",
       "\n",
       "   Item_MRP  Outlet_Identifier  Outlet_Establishment_Year  Outlet_Size  \\\n",
       "0     -0.54                  9                       1999            1   \n",
       "1     -0.87                  2                       2007            3   \n",
       "2      1.63                  0                       1998            3   \n",
       "3      0.23                  2                       2007            3   \n",
       "4      1.51                  5                       1985            1   \n",
       "5     -0.39                  8                       1997            2   \n",
       "6     -1.47                  3                       2009            1   \n",
       "7     -0.97                  5                       1985            1   \n",
       "8     -0.73                  7                       2002            3   \n",
       "9      0.74                  2                       2007            3   \n",
       "\n",
       "   Outlet_Location_Type  Outlet_Type  \n",
       "0                     0            1  \n",
       "1                     1            1  \n",
       "2                     2            0  \n",
       "3                     1            1  \n",
       "4                     2            3  \n",
       "5                     0            1  \n",
       "6                     2            2  \n",
       "7                     2            3  \n",
       "8                     1            1  \n",
       "9                     1            1  "
      ]
     },
     "execution_count": 133,
     "metadata": {},
     "output_type": "execute_result"
    }
   ],
   "source": [
    "sc = StandardScaler()\n",
    "\n",
    "df_test['Item_Weight'] = sc.fit_transform(df_test['Item_Weight'].values.reshape(-1,1))\n",
    "\n",
    "df_test['Item_Visibility'] = sc.fit_transform(df_test['Item_Visibility'].values.reshape(-1,1))\n",
    "\n",
    "df_test['Item_MRP'] = sc.fit_transform(df_test['Item_MRP'].values.reshape(-1,1))\n",
    "\n",
    "df_test.head(10)"
   ]
  },
  {
   "cell_type": "code",
   "execution_count": 134,
   "metadata": {
    "execution": {
     "iopub.execute_input": "2024-01-10T02:54:18.080989Z",
     "iopub.status.busy": "2024-01-10T02:54:18.080648Z",
     "iopub.status.idle": "2024-01-10T02:54:18.105475Z",
     "shell.execute_reply": "2024-01-10T02:54:18.104343Z",
     "shell.execute_reply.started": "2024-01-10T02:54:18.080961Z"
    },
    "trusted": true
   },
   "outputs": [],
   "source": [
    "#load trained model\n",
    "from joblib import load\n",
    "\n",
    "model = load('XGBRegressor.joblib')\n",
    "\n",
    "#predict the model\n",
    "Target_pred = model.predict(df_test)\n"
   ]
  },
  {
   "cell_type": "code",
   "execution_count": 135,
   "metadata": {
    "execution": {
     "iopub.execute_input": "2024-01-10T02:54:20.054372Z",
     "iopub.status.busy": "2024-01-10T02:54:20.054003Z",
     "iopub.status.idle": "2024-01-10T02:54:20.070192Z",
     "shell.execute_reply": "2024-01-10T02:54:20.068799Z",
     "shell.execute_reply.started": "2024-01-10T02:54:20.054344Z"
    },
    "trusted": true
   },
   "outputs": [
    {
     "data": {
      "text/html": [
       "<div>\n",
       "<style scoped>\n",
       "    .dataframe tbody tr th:only-of-type {\n",
       "        vertical-align: middle;\n",
       "    }\n",
       "\n",
       "    .dataframe tbody tr th {\n",
       "        vertical-align: top;\n",
       "    }\n",
       "\n",
       "    .dataframe thead th {\n",
       "        text-align: right;\n",
       "    }\n",
       "</style>\n",
       "<table border=\"1\" class=\"dataframe\">\n",
       "  <thead>\n",
       "    <tr style=\"text-align: right;\">\n",
       "      <th></th>\n",
       "      <th>Item_Identifier</th>\n",
       "      <th>Item_Outlet_Sales</th>\n",
       "    </tr>\n",
       "  </thead>\n",
       "  <tbody>\n",
       "    <tr>\n",
       "      <th>0</th>\n",
       "      <td>1103</td>\n",
       "      <td>-0.32</td>\n",
       "    </tr>\n",
       "    <tr>\n",
       "      <th>1</th>\n",
       "      <td>1067</td>\n",
       "      <td>-0.57</td>\n",
       "    </tr>\n",
       "    <tr>\n",
       "      <th>2</th>\n",
       "      <td>1406</td>\n",
       "      <td>-1.09</td>\n",
       "    </tr>\n",
       "    <tr>\n",
       "      <th>3</th>\n",
       "      <td>809</td>\n",
       "      <td>0.08</td>\n",
       "    </tr>\n",
       "    <tr>\n",
       "      <th>4</th>\n",
       "      <td>1184</td>\n",
       "      <td>3.16</td>\n",
       "    </tr>\n",
       "    <tr>\n",
       "      <th>...</th>\n",
       "      <td>...</td>\n",
       "      <td>...</td>\n",
       "    </tr>\n",
       "    <tr>\n",
       "      <th>5676</th>\n",
       "      <td>231</td>\n",
       "      <td>0.10</td>\n",
       "    </tr>\n",
       "    <tr>\n",
       "      <th>5677</th>\n",
       "      <td>306</td>\n",
       "      <td>-0.16</td>\n",
       "    </tr>\n",
       "    <tr>\n",
       "      <th>5678</th>\n",
       "      <td>1412</td>\n",
       "      <td>0.02</td>\n",
       "    </tr>\n",
       "    <tr>\n",
       "      <th>5679</th>\n",
       "      <td>517</td>\n",
       "      <td>1.22</td>\n",
       "    </tr>\n",
       "    <tr>\n",
       "      <th>5680</th>\n",
       "      <td>987</td>\n",
       "      <td>-0.34</td>\n",
       "    </tr>\n",
       "  </tbody>\n",
       "</table>\n",
       "<p>5681 rows × 2 columns</p>\n",
       "</div>"
      ],
      "text/plain": [
       "      Item_Identifier  Item_Outlet_Sales\n",
       "0                1103              -0.32\n",
       "1                1067              -0.57\n",
       "2                1406              -1.09\n",
       "3                 809               0.08\n",
       "4                1184               3.16\n",
       "...               ...                ...\n",
       "5676              231               0.10\n",
       "5677              306              -0.16\n",
       "5678             1412               0.02\n",
       "5679              517               1.22\n",
       "5680              987              -0.34\n",
       "\n",
       "[5681 rows x 2 columns]"
      ]
     },
     "execution_count": 135,
     "metadata": {},
     "output_type": "execute_result"
    }
   ],
   "source": [
    "#print each Item_Identifier with its predicted value and put the result in dataframe\n",
    "df = pd.DataFrame({'Item_Identifier':df_test['Item_Identifier'],'Item_Outlet_Sales':Target_pred})\n",
    "df\n"
   ]
  }
 ],
 "metadata": {
  "kernelspec": {
   "display_name": "Python 3",
   "language": "python",
   "name": "python3"
  },
  "language_info": {
   "codemirror_mode": {
    "name": "ipython",
    "version": 3
   },
   "file_extension": ".py",
   "mimetype": "text/x-python",
   "name": "python",
   "nbconvert_exporter": "python",
   "pygments_lexer": "ipython3",
   "version": "3.11.1"
  }
 },
 "nbformat": 4,
 "nbformat_minor": 4
}
